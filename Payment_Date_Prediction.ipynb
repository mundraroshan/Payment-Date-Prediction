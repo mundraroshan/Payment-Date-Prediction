{
 "cells": [
  {
   "cell_type": "code",
   "execution_count": 1,
   "metadata": {
    "id": "YUpYrZ3vJMhR"
   },
   "outputs": [],
   "source": [
    "import numpy as np # TO EFFICIENTLY HANDLE ARRAYS\n",
    "import pandas as pd # TO WORK WITH DTASET AS DATAFRAME\n",
    "import seaborn as sns # PLOTTING GRAPHS\n",
    "import matplotlib.pyplot as plt # PLOTTING GRAPHS\n",
    "import matplotlib.ticker as ticker\n",
    "# from forex_python.converter import CurrencyRates # CURRENCY INTER-CONVERSION\n",
    "from sklearn.feature_selection import VarianceThreshold\n",
    "from sklearn.preprocessing import LabelEncoder,OrdinalEncoder\n",
    "from sklearn.ensemble import RandomForestRegressor\n",
    "from sklearn.metrics import r2_score\n",
    "from sklearn.model_selection import train_test_split,RandomizedSearchCV,GridSearchCV\n",
    "from sklearn import metrics\n",
    "# import xgboost as xgb"
   ]
  },
  {
   "cell_type": "code",
   "execution_count": 2,
   "metadata": {
    "id": "a9aKNZDkJdNz"
   },
   "outputs": [],
   "source": [
    "df = pd.read_csv(r'1806507.csv')\n",
    "#Reading the data from the dataset."
   ]
  },
  {
   "cell_type": "code",
   "execution_count": 3,
   "metadata": {
    "colab": {
     "base_uri": "https://localhost:8080/",
     "height": 326
    },
    "id": "SL8kDfXvJpSw",
    "outputId": "810123f5-9827-4a52-9b61-87c19ee06494"
   },
   "outputs": [
    {
     "data": {
      "text/html": [
       "<div>\n",
       "<style scoped>\n",
       "    .dataframe tbody tr th:only-of-type {\n",
       "        vertical-align: middle;\n",
       "    }\n",
       "\n",
       "    .dataframe tbody tr th {\n",
       "        vertical-align: top;\n",
       "    }\n",
       "\n",
       "    .dataframe thead th {\n",
       "        text-align: right;\n",
       "    }\n",
       "</style>\n",
       "<table border=\"1\" class=\"dataframe\">\n",
       "  <thead>\n",
       "    <tr style=\"text-align: right;\">\n",
       "      <th></th>\n",
       "      <th>business_code</th>\n",
       "      <th>cust_number</th>\n",
       "      <th>name_customer</th>\n",
       "      <th>clear_date</th>\n",
       "      <th>buisness_year</th>\n",
       "      <th>doc_id</th>\n",
       "      <th>posting_date</th>\n",
       "      <th>document_create_date</th>\n",
       "      <th>document_create_date.1</th>\n",
       "      <th>due_in_date</th>\n",
       "      <th>invoice_currency</th>\n",
       "      <th>document type</th>\n",
       "      <th>posting_id</th>\n",
       "      <th>area_business</th>\n",
       "      <th>total_open_amount</th>\n",
       "      <th>baseline_create_date</th>\n",
       "      <th>cust_payment_terms</th>\n",
       "      <th>invoice_id</th>\n",
       "      <th>isOpen</th>\n",
       "    </tr>\n",
       "  </thead>\n",
       "  <tbody>\n",
       "    <tr>\n",
       "      <th>0</th>\n",
       "      <td>U001</td>\n",
       "      <td>0200749782</td>\n",
       "      <td>KROG systems</td>\n",
       "      <td>2019-11-08 00:00:00</td>\n",
       "      <td>2019.0</td>\n",
       "      <td>1.930042e+09</td>\n",
       "      <td>2019-10-24</td>\n",
       "      <td>20191022</td>\n",
       "      <td>20191024</td>\n",
       "      <td>20191108.0</td>\n",
       "      <td>USD</td>\n",
       "      <td>RV</td>\n",
       "      <td>1.0</td>\n",
       "      <td>NaN</td>\n",
       "      <td>43874.34</td>\n",
       "      <td>20191024.0</td>\n",
       "      <td>NAA8</td>\n",
       "      <td>1.930042e+09</td>\n",
       "      <td>0</td>\n",
       "    </tr>\n",
       "    <tr>\n",
       "      <th>1</th>\n",
       "      <td>U001</td>\n",
       "      <td>CCU013</td>\n",
       "      <td>KRAFT F corporation</td>\n",
       "      <td>2020-02-28 00:00:00</td>\n",
       "      <td>2020.0</td>\n",
       "      <td>1.930357e+09</td>\n",
       "      <td>2020-01-08</td>\n",
       "      <td>20200106</td>\n",
       "      <td>20200108</td>\n",
       "      <td>20200108.0</td>\n",
       "      <td>USD</td>\n",
       "      <td>RV</td>\n",
       "      <td>1.0</td>\n",
       "      <td>NaN</td>\n",
       "      <td>14916.00</td>\n",
       "      <td>20200108.0</td>\n",
       "      <td>NAX2</td>\n",
       "      <td>1.930357e+09</td>\n",
       "      <td>0</td>\n",
       "    </tr>\n",
       "    <tr>\n",
       "      <th>2</th>\n",
       "      <td>U001</td>\n",
       "      <td>200458131</td>\n",
       "      <td>TIMES trust</td>\n",
       "      <td>2019-04-17 00:00:00</td>\n",
       "      <td>2019.0</td>\n",
       "      <td>1.929033e+09</td>\n",
       "      <td>2019-04-02</td>\n",
       "      <td>20190401</td>\n",
       "      <td>20190402</td>\n",
       "      <td>20190417.0</td>\n",
       "      <td>USD</td>\n",
       "      <td>RV</td>\n",
       "      <td>1.0</td>\n",
       "      <td>NaN</td>\n",
       "      <td>4178.20</td>\n",
       "      <td>20190402.0</td>\n",
       "      <td>NAA8</td>\n",
       "      <td>1.929033e+09</td>\n",
       "      <td>0</td>\n",
       "    </tr>\n",
       "    <tr>\n",
       "      <th>3</th>\n",
       "      <td>U001</td>\n",
       "      <td>0200803720</td>\n",
       "      <td>DEC foundation</td>\n",
       "      <td>2019-07-01 00:00:00</td>\n",
       "      <td>2019.0</td>\n",
       "      <td>1.929538e+09</td>\n",
       "      <td>2019-06-25</td>\n",
       "      <td>20190625</td>\n",
       "      <td>20190625</td>\n",
       "      <td>20190709.0</td>\n",
       "      <td>USD</td>\n",
       "      <td>RV</td>\n",
       "      <td>1.0</td>\n",
       "      <td>NaN</td>\n",
       "      <td>4975.54</td>\n",
       "      <td>20190616.0</td>\n",
       "      <td>NAM4</td>\n",
       "      <td>1.929538e+09</td>\n",
       "      <td>0</td>\n",
       "    </tr>\n",
       "    <tr>\n",
       "      <th>4</th>\n",
       "      <td>U001</td>\n",
       "      <td>0200743996</td>\n",
       "      <td>STATER  llc</td>\n",
       "      <td>2019-11-01 00:00:00</td>\n",
       "      <td>2019.0</td>\n",
       "      <td>1.930021e+09</td>\n",
       "      <td>2019-10-17</td>\n",
       "      <td>20191016</td>\n",
       "      <td>20191017</td>\n",
       "      <td>20191101.0</td>\n",
       "      <td>USD</td>\n",
       "      <td>RV</td>\n",
       "      <td>1.0</td>\n",
       "      <td>NaN</td>\n",
       "      <td>61785.22</td>\n",
       "      <td>20191017.0</td>\n",
       "      <td>NAA8</td>\n",
       "      <td>1.930021e+09</td>\n",
       "      <td>0</td>\n",
       "    </tr>\n",
       "  </tbody>\n",
       "</table>\n",
       "</div>"
      ],
      "text/plain": [
       "  business_code cust_number        name_customer           clear_date  \\\n",
       "0          U001  0200749782         KROG systems  2019-11-08 00:00:00   \n",
       "1          U001      CCU013  KRAFT F corporation  2020-02-28 00:00:00   \n",
       "2          U001   200458131          TIMES trust  2019-04-17 00:00:00   \n",
       "3          U001  0200803720       DEC foundation  2019-07-01 00:00:00   \n",
       "4          U001  0200743996          STATER  llc  2019-11-01 00:00:00   \n",
       "\n",
       "   buisness_year        doc_id posting_date  document_create_date  \\\n",
       "0         2019.0  1.930042e+09   2019-10-24              20191022   \n",
       "1         2020.0  1.930357e+09   2020-01-08              20200106   \n",
       "2         2019.0  1.929033e+09   2019-04-02              20190401   \n",
       "3         2019.0  1.929538e+09   2019-06-25              20190625   \n",
       "4         2019.0  1.930021e+09   2019-10-17              20191016   \n",
       "\n",
       "   document_create_date.1  due_in_date invoice_currency document type  \\\n",
       "0                20191024   20191108.0              USD            RV   \n",
       "1                20200108   20200108.0              USD            RV   \n",
       "2                20190402   20190417.0              USD            RV   \n",
       "3                20190625   20190709.0              USD            RV   \n",
       "4                20191017   20191101.0              USD            RV   \n",
       "\n",
       "   posting_id  area_business  total_open_amount  baseline_create_date  \\\n",
       "0         1.0            NaN           43874.34            20191024.0   \n",
       "1         1.0            NaN           14916.00            20200108.0   \n",
       "2         1.0            NaN            4178.20            20190402.0   \n",
       "3         1.0            NaN            4975.54            20190616.0   \n",
       "4         1.0            NaN           61785.22            20191017.0   \n",
       "\n",
       "  cust_payment_terms    invoice_id  isOpen  \n",
       "0               NAA8  1.930042e+09       0  \n",
       "1               NAX2  1.930357e+09       0  \n",
       "2               NAA8  1.929033e+09       0  \n",
       "3               NAM4  1.929538e+09       0  \n",
       "4               NAA8  1.930021e+09       0  "
      ]
     },
     "execution_count": 3,
     "metadata": {},
     "output_type": "execute_result"
    }
   ],
   "source": [
    "df.head()\n",
    "#Shows the first five column of the dataset."
   ]
  },
  {
   "cell_type": "code",
   "execution_count": 4,
   "metadata": {
    "colab": {
     "base_uri": "https://localhost:8080/",
     "height": 257
    },
    "id": "NQ9xqXIbAin9",
    "outputId": "d460c472-38f2-485d-af2a-6d209f29df21"
   },
   "outputs": [
    {
     "data": {
      "text/html": [
       "<div>\n",
       "<style scoped>\n",
       "    .dataframe tbody tr th:only-of-type {\n",
       "        vertical-align: middle;\n",
       "    }\n",
       "\n",
       "    .dataframe tbody tr th {\n",
       "        vertical-align: top;\n",
       "    }\n",
       "\n",
       "    .dataframe thead th {\n",
       "        text-align: right;\n",
       "    }\n",
       "</style>\n",
       "<table border=\"1\" class=\"dataframe\">\n",
       "  <thead>\n",
       "    <tr style=\"text-align: right;\">\n",
       "      <th></th>\n",
       "      <th>business_code</th>\n",
       "      <th>cust_number</th>\n",
       "      <th>name_customer</th>\n",
       "      <th>clear_date</th>\n",
       "      <th>buisness_year</th>\n",
       "      <th>doc_id</th>\n",
       "      <th>posting_date</th>\n",
       "      <th>document_create_date</th>\n",
       "      <th>document_create_date.1</th>\n",
       "      <th>due_in_date</th>\n",
       "      <th>invoice_currency</th>\n",
       "      <th>document type</th>\n",
       "      <th>posting_id</th>\n",
       "      <th>area_business</th>\n",
       "      <th>total_open_amount</th>\n",
       "      <th>baseline_create_date</th>\n",
       "      <th>cust_payment_terms</th>\n",
       "      <th>invoice_id</th>\n",
       "      <th>isOpen</th>\n",
       "    </tr>\n",
       "  </thead>\n",
       "  <tbody>\n",
       "    <tr>\n",
       "      <th>49995</th>\n",
       "      <td>U001</td>\n",
       "      <td>0200762301</td>\n",
       "      <td>C&amp;S WH llc</td>\n",
       "      <td>NaN</td>\n",
       "      <td>2020.0</td>\n",
       "      <td>1.930728e+09</td>\n",
       "      <td>2020-04-02</td>\n",
       "      <td>20200401</td>\n",
       "      <td>20200402</td>\n",
       "      <td>20200417.0</td>\n",
       "      <td>USD</td>\n",
       "      <td>RV</td>\n",
       "      <td>1.0</td>\n",
       "      <td>NaN</td>\n",
       "      <td>18200.81</td>\n",
       "      <td>20200402.0</td>\n",
       "      <td>NAC6</td>\n",
       "      <td>1.930728e+09</td>\n",
       "      <td>1</td>\n",
       "    </tr>\n",
       "    <tr>\n",
       "      <th>49996</th>\n",
       "      <td>U001</td>\n",
       "      <td>0200743123</td>\n",
       "      <td>KROGER trust</td>\n",
       "      <td>NaN</td>\n",
       "      <td>2020.0</td>\n",
       "      <td>1.930634e+09</td>\n",
       "      <td>2020-03-11</td>\n",
       "      <td>20200310</td>\n",
       "      <td>20200311</td>\n",
       "      <td>20200326.0</td>\n",
       "      <td>USD</td>\n",
       "      <td>RV</td>\n",
       "      <td>1.0</td>\n",
       "      <td>NaN</td>\n",
       "      <td>19436.31</td>\n",
       "      <td>20200311.0</td>\n",
       "      <td>NAA8</td>\n",
       "      <td>1.930634e+09</td>\n",
       "      <td>1</td>\n",
       "    </tr>\n",
       "    <tr>\n",
       "      <th>49997</th>\n",
       "      <td>CA02</td>\n",
       "      <td>0140106408</td>\n",
       "      <td>WAL-M llc</td>\n",
       "      <td>NaN</td>\n",
       "      <td>2020.0</td>\n",
       "      <td>2.960626e+09</td>\n",
       "      <td>2020-04-02</td>\n",
       "      <td>20200402</td>\n",
       "      <td>20200402</td>\n",
       "      <td>20200412.0</td>\n",
       "      <td>CAD</td>\n",
       "      <td>RV</td>\n",
       "      <td>1.0</td>\n",
       "      <td>NaN</td>\n",
       "      <td>2874.24</td>\n",
       "      <td>20200402.0</td>\n",
       "      <td>CA10</td>\n",
       "      <td>2.960626e+09</td>\n",
       "      <td>1</td>\n",
       "    </tr>\n",
       "    <tr>\n",
       "      <th>49998</th>\n",
       "      <td>U001</td>\n",
       "      <td>0200508557</td>\n",
       "      <td>FOODL systems</td>\n",
       "      <td>NaN</td>\n",
       "      <td>2020.0</td>\n",
       "      <td>1.930834e+09</td>\n",
       "      <td>2020-05-05</td>\n",
       "      <td>20200504</td>\n",
       "      <td>20200505</td>\n",
       "      <td>20200520.0</td>\n",
       "      <td>USD</td>\n",
       "      <td>RV</td>\n",
       "      <td>1.0</td>\n",
       "      <td>NaN</td>\n",
       "      <td>2208.33</td>\n",
       "      <td>20200505.0</td>\n",
       "      <td>NAA8</td>\n",
       "      <td>1.930834e+09</td>\n",
       "      <td>1</td>\n",
       "    </tr>\n",
       "    <tr>\n",
       "      <th>49999</th>\n",
       "      <td>CA02</td>\n",
       "      <td>0140104223</td>\n",
       "      <td>H Y LO trust</td>\n",
       "      <td>NaN</td>\n",
       "      <td>2020.0</td>\n",
       "      <td>2.960626e+09</td>\n",
       "      <td>2020-04-05</td>\n",
       "      <td>20200405</td>\n",
       "      <td>20200405</td>\n",
       "      <td>20200424.0</td>\n",
       "      <td>CAD</td>\n",
       "      <td>RV</td>\n",
       "      <td>1.0</td>\n",
       "      <td>NaN</td>\n",
       "      <td>34165.35</td>\n",
       "      <td>20200414.0</td>\n",
       "      <td>CA10</td>\n",
       "      <td>2.960626e+09</td>\n",
       "      <td>1</td>\n",
       "    </tr>\n",
       "  </tbody>\n",
       "</table>\n",
       "</div>"
      ],
      "text/plain": [
       "      business_code cust_number  name_customer clear_date  buisness_year  \\\n",
       "49995          U001  0200762301     C&S WH llc        NaN         2020.0   \n",
       "49996          U001  0200743123   KROGER trust        NaN         2020.0   \n",
       "49997          CA02  0140106408      WAL-M llc        NaN         2020.0   \n",
       "49998          U001  0200508557  FOODL systems        NaN         2020.0   \n",
       "49999          CA02  0140104223   H Y LO trust        NaN         2020.0   \n",
       "\n",
       "             doc_id posting_date  document_create_date  \\\n",
       "49995  1.930728e+09   2020-04-02              20200401   \n",
       "49996  1.930634e+09   2020-03-11              20200310   \n",
       "49997  2.960626e+09   2020-04-02              20200402   \n",
       "49998  1.930834e+09   2020-05-05              20200504   \n",
       "49999  2.960626e+09   2020-04-05              20200405   \n",
       "\n",
       "       document_create_date.1  due_in_date invoice_currency document type  \\\n",
       "49995                20200402   20200417.0              USD            RV   \n",
       "49996                20200311   20200326.0              USD            RV   \n",
       "49997                20200402   20200412.0              CAD            RV   \n",
       "49998                20200505   20200520.0              USD            RV   \n",
       "49999                20200405   20200424.0              CAD            RV   \n",
       "\n",
       "       posting_id  area_business  total_open_amount  baseline_create_date  \\\n",
       "49995         1.0            NaN           18200.81            20200402.0   \n",
       "49996         1.0            NaN           19436.31            20200311.0   \n",
       "49997         1.0            NaN            2874.24            20200402.0   \n",
       "49998         1.0            NaN            2208.33            20200505.0   \n",
       "49999         1.0            NaN           34165.35            20200414.0   \n",
       "\n",
       "      cust_payment_terms    invoice_id  isOpen  \n",
       "49995               NAC6  1.930728e+09       1  \n",
       "49996               NAA8  1.930634e+09       1  \n",
       "49997               CA10  2.960626e+09       1  \n",
       "49998               NAA8  1.930834e+09       1  \n",
       "49999               CA10  2.960626e+09       1  "
      ]
     },
     "execution_count": 4,
     "metadata": {},
     "output_type": "execute_result"
    }
   ],
   "source": [
    "df.tail()\n",
    "# Shows the last five column of the dataset."
   ]
  },
  {
   "cell_type": "code",
   "execution_count": 5,
   "metadata": {
    "colab": {
     "base_uri": "https://localhost:8080/"
    },
    "id": "8oD4xoFLJsUX",
    "outputId": "12105cc5-c589-40ac-d6e0-27094921bcd2"
   },
   "outputs": [
    {
     "data": {
      "text/plain": [
       "(50000, 19)"
      ]
     },
     "execution_count": 5,
     "metadata": {},
     "output_type": "execute_result"
    }
   ],
   "source": [
    "df.shape\n",
    "# Identifies the number of rows and columns."
   ]
  },
  {
   "cell_type": "code",
   "execution_count": 6,
   "metadata": {
    "colab": {
     "base_uri": "https://localhost:8080/"
    },
    "id": "y5lGE76iJvLW",
    "outputId": "a73ededa-f93d-4fd0-cfed-0f8ce1a6ccbb"
   },
   "outputs": [
    {
     "name": "stdout",
     "output_type": "stream",
     "text": [
      "<class 'pandas.core.frame.DataFrame'>\n",
      "RangeIndex: 50000 entries, 0 to 49999\n",
      "Data columns (total 19 columns):\n",
      " #   Column                  Non-Null Count  Dtype  \n",
      "---  ------                  --------------  -----  \n",
      " 0   business_code           50000 non-null  object \n",
      " 1   cust_number             50000 non-null  object \n",
      " 2   name_customer           50000 non-null  object \n",
      " 3   clear_date              45001 non-null  object \n",
      " 4   buisness_year           50000 non-null  float64\n",
      " 5   doc_id                  50000 non-null  float64\n",
      " 6   posting_date            50000 non-null  object \n",
      " 7   document_create_date    50000 non-null  int64  \n",
      " 8   document_create_date.1  50000 non-null  int64  \n",
      " 9   due_in_date             50000 non-null  float64\n",
      " 10  invoice_currency        50000 non-null  object \n",
      " 11  document type           50000 non-null  object \n",
      " 12  posting_id              50000 non-null  float64\n",
      " 13  area_business           0 non-null      float64\n",
      " 14  total_open_amount       50000 non-null  float64\n",
      " 15  baseline_create_date    50000 non-null  float64\n",
      " 16  cust_payment_terms      50000 non-null  object \n",
      " 17  invoice_id              49996 non-null  float64\n",
      " 18  isOpen                  50000 non-null  int64  \n",
      "dtypes: float64(8), int64(3), object(8)\n",
      "memory usage: 7.2+ MB\n"
     ]
    }
   ],
   "source": [
    "\n",
    "df.info()\n",
    "# shows the information of the dataset."
   ]
  },
  {
   "cell_type": "code",
   "execution_count": 7,
   "metadata": {
    "colab": {
     "base_uri": "https://localhost:8080/"
    },
    "id": "lmxptl0bJx5y",
    "outputId": "c7c21100-2553-4b15-a16c-8b63b9173201"
   },
   "outputs": [
    {
     "data": {
      "text/plain": [
       "business_code                 6\n",
       "cust_number                1473\n",
       "name_customer              4286\n",
       "clear_date                  401\n",
       "buisness_year                 2\n",
       "doc_id                    50000\n",
       "posting_date                503\n",
       "document_create_date        507\n",
       "document_create_date.1      503\n",
       "due_in_date                 545\n",
       "invoice_currency              2\n",
       "document type                 2\n",
       "posting_id                    1\n",
       "area_business                 0\n",
       "total_open_amount         45346\n",
       "baseline_create_date        504\n",
       "cust_payment_terms           74\n",
       "invoice_id                49996\n",
       "isOpen                        2\n",
       "dtype: int64"
      ]
     },
     "execution_count": 7,
     "metadata": {},
     "output_type": "execute_result"
    }
   ],
   "source": [
    "df.nunique()\n",
    "# nunique() function we can see the number of unique entries in each column. \n"
   ]
  },
  {
   "cell_type": "markdown",
   "metadata": {
    "id": "5Udyunmu44LV"
   },
   "source": [
    "# Converting dates to datetime datatype--"
   ]
  },
  {
   "cell_type": "code",
   "execution_count": 8,
   "metadata": {
    "id": "P-ADpGX0J0pa"
   },
   "outputs": [],
   "source": [
    "# From above we observed that the date columns have differnt datatypes so now converting them to datetime datatype.\n",
    "df['clear_date']= pd.to_datetime(df['clear_date'])\n",
    "df['posting_date']= pd.to_datetime(df['posting_date'])\n",
    "df['document_create_date']= pd.to_datetime(df['document_create_date'],format='%Y%m%d')\n",
    "df['document_create_date.1']= pd.to_datetime(df['document_create_date.1'],format='%Y%m%d')\n",
    "df['due_in_date']= pd.to_datetime(df['due_in_date'],format='%Y%m%d')\n",
    "df['baseline_create_date']= pd.to_datetime(df['baseline_create_date'],format='%Y%m%d')"
   ]
  },
  {
   "cell_type": "code",
   "execution_count": 9,
   "metadata": {
    "id": "qAEuqWnnJ36N"
   },
   "outputs": [],
   "source": [
    "# buisness_year is not of type but is of type float. Years cannot be fractions.\n",
    "df[\"buisness_year\"]=pd.to_datetime(df[\"buisness_year\"],format='%Y').dt.year"
   ]
  },
  {
   "cell_type": "code",
   "execution_count": 10,
   "metadata": {
    "colab": {
     "base_uri": "https://localhost:8080/"
    },
    "id": "j817ErQeJ604",
    "outputId": "4641883a-a258-442a-d5b4-b60d8f39c7c3"
   },
   "outputs": [
    {
     "name": "stdout",
     "output_type": "stream",
     "text": [
      "<class 'pandas.core.frame.DataFrame'>\n",
      "RangeIndex: 50000 entries, 0 to 49999\n",
      "Data columns (total 19 columns):\n",
      " #   Column                  Non-Null Count  Dtype         \n",
      "---  ------                  --------------  -----         \n",
      " 0   business_code           50000 non-null  object        \n",
      " 1   cust_number             50000 non-null  object        \n",
      " 2   name_customer           50000 non-null  object        \n",
      " 3   clear_date              45001 non-null  datetime64[ns]\n",
      " 4   buisness_year           50000 non-null  int64         \n",
      " 5   doc_id                  50000 non-null  float64       \n",
      " 6   posting_date            50000 non-null  datetime64[ns]\n",
      " 7   document_create_date    50000 non-null  datetime64[ns]\n",
      " 8   document_create_date.1  50000 non-null  datetime64[ns]\n",
      " 9   due_in_date             50000 non-null  datetime64[ns]\n",
      " 10  invoice_currency        50000 non-null  object        \n",
      " 11  document type           50000 non-null  object        \n",
      " 12  posting_id              50000 non-null  float64       \n",
      " 13  area_business           0 non-null      float64       \n",
      " 14  total_open_amount       50000 non-null  float64       \n",
      " 15  baseline_create_date    50000 non-null  datetime64[ns]\n",
      " 16  cust_payment_terms      50000 non-null  object        \n",
      " 17  invoice_id              49996 non-null  float64       \n",
      " 18  isOpen                  50000 non-null  int64         \n",
      "dtypes: datetime64[ns](6), float64(5), int64(2), object(6)\n",
      "memory usage: 7.2+ MB\n"
     ]
    }
   ],
   "source": [
    "# We can observe that the datatypes have been changed accordingly.\n",
    "df.info()"
   ]
  },
  {
   "cell_type": "markdown",
   "metadata": {
    "id": "n2DhkOSWKcrJ"
   },
   "source": [
    "# Finding & Removing Anomalies \n",
    "## Sanity Check"
   ]
  },
  {
   "cell_type": "code",
   "execution_count": 11,
   "metadata": {
    "colab": {
     "base_uri": "https://localhost:8080/"
    },
    "id": "5zk3h0UKJ9EW",
    "outputId": "9d1d3bdb-201d-4c4c-ac54-bcede3e2f932"
   },
   "outputs": [
    {
     "name": "stdout",
     "output_type": "stream",
     "text": [
      "Here we are Checking if the due_in_date is of before baseline_create_date\n",
      "Found:  0\n",
      "Checking if clear_date is of before document_created_date.1\n",
      "Found:  0\n",
      "Checking if total_open_amount<0\n",
      "Found:  0\n"
     ]
    }
   ],
   "source": [
    "print(\"Here we are Checking if the due_in_date is of before baseline_create_date\") # as baseline_create_date is the date in which the invoice is created and due_in_date is the date in which the customer is expected to clear an invoice. So, the dur_in_date shouldnt be before the baseline_create_date.\n",
    "print(\"Found: \",df[df[\"baseline_create_date\"]>df.due_in_date][\"due_in_date\"].count()) \n",
    "\n",
    "print(\"Checking if clear_date is of before document_created_date.1\") # as clear_date means the invoice is clear that day and document_create_date means the invoice is created that day document_create_date can never have the date after the clear_date.\n",
    "print(\"Found: \",df[df[\"document_create_date.1\"]>df.clear_date][\"clear_date\"].count())\n",
    "\n",
    "print(\"Checking if total_open_amount<0\") # total_open_amount means the amount left to be paid which cannot be <0.\n",
    "print(\"Found: \",df[df.total_open_amount<0 ][\"total_open_amount\"].count())"
   ]
  },
  {
   "cell_type": "markdown",
   "metadata": {
    "id": "oQG8OGtHKun5"
   },
   "source": [
    "###  Creating a seperate dataframe for rows having null clear data or open invoices. We shall use it later for predicting the payment"
   ]
  },
  {
   "cell_type": "code",
   "execution_count": 12,
   "metadata": {
    "id": "IfC-7jkXKGGO"
   },
   "outputs": [],
   "source": [
    "open_invoice_df = df[df[\"clear_date\"].isna()] # checks for null entry in the clear_date\n",
    "df = df[df[\"clear_date\"].notna()] # checks for the not null entry.\n",
    "df.reset_index(inplace=True) # resets the index after dropping the null entries."
   ]
  },
  {
   "cell_type": "code",
   "execution_count": 13,
   "metadata": {
    "colab": {
     "base_uri": "https://localhost:8080/",
     "height": 257
    },
    "id": "cY5Txk7qKImy",
    "outputId": "330c59bb-241f-4f94-a51a-a0abc37ad604"
   },
   "outputs": [
    {
     "data": {
      "text/html": [
       "<div>\n",
       "<style scoped>\n",
       "    .dataframe tbody tr th:only-of-type {\n",
       "        vertical-align: middle;\n",
       "    }\n",
       "\n",
       "    .dataframe tbody tr th {\n",
       "        vertical-align: top;\n",
       "    }\n",
       "\n",
       "    .dataframe thead th {\n",
       "        text-align: right;\n",
       "    }\n",
       "</style>\n",
       "<table border=\"1\" class=\"dataframe\">\n",
       "  <thead>\n",
       "    <tr style=\"text-align: right;\">\n",
       "      <th></th>\n",
       "      <th>business_code</th>\n",
       "      <th>cust_number</th>\n",
       "      <th>name_customer</th>\n",
       "      <th>clear_date</th>\n",
       "      <th>buisness_year</th>\n",
       "      <th>doc_id</th>\n",
       "      <th>posting_date</th>\n",
       "      <th>document_create_date</th>\n",
       "      <th>document_create_date.1</th>\n",
       "      <th>due_in_date</th>\n",
       "      <th>invoice_currency</th>\n",
       "      <th>document type</th>\n",
       "      <th>posting_id</th>\n",
       "      <th>area_business</th>\n",
       "      <th>total_open_amount</th>\n",
       "      <th>baseline_create_date</th>\n",
       "      <th>cust_payment_terms</th>\n",
       "      <th>invoice_id</th>\n",
       "      <th>isOpen</th>\n",
       "    </tr>\n",
       "  </thead>\n",
       "  <tbody>\n",
       "    <tr>\n",
       "      <th>45001</th>\n",
       "      <td>U001</td>\n",
       "      <td>0200792293</td>\n",
       "      <td>UNIFIE corporation</td>\n",
       "      <td>NaT</td>\n",
       "      <td>2020</td>\n",
       "      <td>1.930675e+09</td>\n",
       "      <td>2020-03-20</td>\n",
       "      <td>2020-03-20</td>\n",
       "      <td>2020-03-20</td>\n",
       "      <td>2020-04-04</td>\n",
       "      <td>USD</td>\n",
       "      <td>RV</td>\n",
       "      <td>1.0</td>\n",
       "      <td>NaN</td>\n",
       "      <td>16662.44</td>\n",
       "      <td>2020-03-20</td>\n",
       "      <td>NAA8</td>\n",
       "      <td>1.930675e+09</td>\n",
       "      <td>1</td>\n",
       "    </tr>\n",
       "    <tr>\n",
       "      <th>45002</th>\n",
       "      <td>U001</td>\n",
       "      <td>0200772595</td>\n",
       "      <td>SAFEW co</td>\n",
       "      <td>NaT</td>\n",
       "      <td>2020</td>\n",
       "      <td>1.930693e+09</td>\n",
       "      <td>2020-03-24</td>\n",
       "      <td>2020-03-24</td>\n",
       "      <td>2020-03-24</td>\n",
       "      <td>2020-04-08</td>\n",
       "      <td>USD</td>\n",
       "      <td>RV</td>\n",
       "      <td>1.0</td>\n",
       "      <td>NaN</td>\n",
       "      <td>20719.26</td>\n",
       "      <td>2020-03-24</td>\n",
       "      <td>NAA8</td>\n",
       "      <td>1.930693e+09</td>\n",
       "      <td>1</td>\n",
       "    </tr>\n",
       "    <tr>\n",
       "      <th>45003</th>\n",
       "      <td>U001</td>\n",
       "      <td>0200772670</td>\n",
       "      <td>ASSOCIAT in</td>\n",
       "      <td>NaT</td>\n",
       "      <td>2020</td>\n",
       "      <td>1.930611e+09</td>\n",
       "      <td>2020-03-06</td>\n",
       "      <td>2020-03-06</td>\n",
       "      <td>2020-03-06</td>\n",
       "      <td>2020-03-21</td>\n",
       "      <td>USD</td>\n",
       "      <td>RV</td>\n",
       "      <td>1.0</td>\n",
       "      <td>NaN</td>\n",
       "      <td>107810.47</td>\n",
       "      <td>2020-03-06</td>\n",
       "      <td>NAU5</td>\n",
       "      <td>1.930611e+09</td>\n",
       "      <td>1</td>\n",
       "    </tr>\n",
       "    <tr>\n",
       "      <th>45004</th>\n",
       "      <td>CA02</td>\n",
       "      <td>0140106408</td>\n",
       "      <td>WAL-M</td>\n",
       "      <td>NaT</td>\n",
       "      <td>2020</td>\n",
       "      <td>2.960627e+09</td>\n",
       "      <td>2020-04-06</td>\n",
       "      <td>2020-04-07</td>\n",
       "      <td>2020-04-06</td>\n",
       "      <td>2020-04-04</td>\n",
       "      <td>CAD</td>\n",
       "      <td>RV</td>\n",
       "      <td>1.0</td>\n",
       "      <td>NaN</td>\n",
       "      <td>2455.22</td>\n",
       "      <td>2020-03-25</td>\n",
       "      <td>CA10</td>\n",
       "      <td>2.960627e+09</td>\n",
       "      <td>1</td>\n",
       "    </tr>\n",
       "    <tr>\n",
       "      <th>45005</th>\n",
       "      <td>U001</td>\n",
       "      <td>0200799367</td>\n",
       "      <td>MCL corp</td>\n",
       "      <td>NaT</td>\n",
       "      <td>2020</td>\n",
       "      <td>1.930595e+09</td>\n",
       "      <td>2020-03-03</td>\n",
       "      <td>2020-03-03</td>\n",
       "      <td>2020-03-03</td>\n",
       "      <td>2020-03-18</td>\n",
       "      <td>USD</td>\n",
       "      <td>RV</td>\n",
       "      <td>1.0</td>\n",
       "      <td>NaN</td>\n",
       "      <td>48278.44</td>\n",
       "      <td>2020-03-03</td>\n",
       "      <td>NAA8</td>\n",
       "      <td>1.930595e+09</td>\n",
       "      <td>1</td>\n",
       "    </tr>\n",
       "  </tbody>\n",
       "</table>\n",
       "</div>"
      ],
      "text/plain": [
       "      business_code cust_number       name_customer clear_date  buisness_year  \\\n",
       "45001          U001  0200792293  UNIFIE corporation        NaT           2020   \n",
       "45002          U001  0200772595            SAFEW co        NaT           2020   \n",
       "45003          U001  0200772670         ASSOCIAT in        NaT           2020   \n",
       "45004          CA02  0140106408              WAL-M         NaT           2020   \n",
       "45005          U001  0200799367            MCL corp        NaT           2020   \n",
       "\n",
       "             doc_id posting_date document_create_date document_create_date.1  \\\n",
       "45001  1.930675e+09   2020-03-20           2020-03-20             2020-03-20   \n",
       "45002  1.930693e+09   2020-03-24           2020-03-24             2020-03-24   \n",
       "45003  1.930611e+09   2020-03-06           2020-03-06             2020-03-06   \n",
       "45004  2.960627e+09   2020-04-06           2020-04-07             2020-04-06   \n",
       "45005  1.930595e+09   2020-03-03           2020-03-03             2020-03-03   \n",
       "\n",
       "      due_in_date invoice_currency document type  posting_id  area_business  \\\n",
       "45001  2020-04-04              USD            RV         1.0            NaN   \n",
       "45002  2020-04-08              USD            RV         1.0            NaN   \n",
       "45003  2020-03-21              USD            RV         1.0            NaN   \n",
       "45004  2020-04-04              CAD            RV         1.0            NaN   \n",
       "45005  2020-03-18              USD            RV         1.0            NaN   \n",
       "\n",
       "       total_open_amount baseline_create_date cust_payment_terms  \\\n",
       "45001           16662.44           2020-03-20               NAA8   \n",
       "45002           20719.26           2020-03-24               NAA8   \n",
       "45003          107810.47           2020-03-06               NAU5   \n",
       "45004            2455.22           2020-03-25               CA10   \n",
       "45005           48278.44           2020-03-03               NAA8   \n",
       "\n",
       "         invoice_id  isOpen  \n",
       "45001  1.930675e+09       1  \n",
       "45002  1.930693e+09       1  \n",
       "45003  1.930611e+09       1  \n",
       "45004  2.960627e+09       1  \n",
       "45005  1.930595e+09       1  "
      ]
     },
     "execution_count": 13,
     "metadata": {},
     "output_type": "execute_result"
    }
   ],
   "source": [
    "# It shows the top 5 rows\n",
    "open_invoice_df.head()"
   ]
  },
  {
   "cell_type": "markdown",
   "metadata": {
    "id": "T-x3dxobLR_E"
   },
   "source": [
    "## Creating the Target column"
   ]
  },
  {
   "cell_type": "code",
   "execution_count": 14,
   "metadata": {
    "id": "SsKVlinEKKjK"
   },
   "outputs": [],
   "source": [
    "df[\"delay\"] = (df[\"clear_date\"] - df[\"due_in_date\"]).dt.days"
   ]
  },
  {
   "cell_type": "code",
   "execution_count": 15,
   "metadata": {
    "id": "6Qd4PkkIKN7j"
   },
   "outputs": [],
   "source": [
    "# We are sorting the dataframe acording to the baseline_create_date.\n",
    "df = df.sort_values(by=\"baseline_create_date\",ignore_index=True)"
   ]
  },
  {
   "cell_type": "code",
   "execution_count": 16,
   "metadata": {
    "colab": {
     "base_uri": "https://localhost:8080/"
    },
    "id": "qK1-_hMcKWb1",
    "outputId": "d617aab4-e49a-4341-e7f6-f4a39e862277"
   },
   "outputs": [
    {
     "name": "stdout",
     "output_type": "stream",
     "text": [
      "<class 'pandas.core.frame.DataFrame'>\n",
      "RangeIndex: 45001 entries, 0 to 45000\n",
      "Data columns (total 21 columns):\n",
      " #   Column                  Non-Null Count  Dtype         \n",
      "---  ------                  --------------  -----         \n",
      " 0   index                   45001 non-null  int64         \n",
      " 1   business_code           45001 non-null  object        \n",
      " 2   cust_number             45001 non-null  object        \n",
      " 3   name_customer           45001 non-null  object        \n",
      " 4   clear_date              45001 non-null  datetime64[ns]\n",
      " 5   buisness_year           45001 non-null  int64         \n",
      " 6   doc_id                  45001 non-null  float64       \n",
      " 7   posting_date            45001 non-null  datetime64[ns]\n",
      " 8   document_create_date    45001 non-null  datetime64[ns]\n",
      " 9   document_create_date.1  45001 non-null  datetime64[ns]\n",
      " 10  due_in_date             45001 non-null  datetime64[ns]\n",
      " 11  invoice_currency        45001 non-null  object        \n",
      " 12  document type           45001 non-null  object        \n",
      " 13  posting_id              45001 non-null  float64       \n",
      " 14  area_business           0 non-null      float64       \n",
      " 15  total_open_amount       45001 non-null  float64       \n",
      " 16  baseline_create_date    45001 non-null  datetime64[ns]\n",
      " 17  cust_payment_terms      45001 non-null  object        \n",
      " 18  invoice_id              44997 non-null  float64       \n",
      " 19  isOpen                  45001 non-null  int64         \n",
      " 20  delay                   45001 non-null  int64         \n",
      "dtypes: datetime64[ns](6), float64(5), int64(4), object(6)\n",
      "memory usage: 7.2+ MB\n"
     ]
    }
   ],
   "source": [
    "# checking for the information. \n",
    "df.info()"
   ]
  },
  {
   "cell_type": "code",
   "execution_count": 17,
   "metadata": {
    "colab": {
     "base_uri": "https://localhost:8080/"
    },
    "id": "mV9ZrUISKYx6",
    "outputId": "31cd326a-4007-4577-b3f2-d444ab2d860e"
   },
   "outputs": [
    {
     "data": {
      "text/plain": [
       "index                                     430\n",
       "business_code                            CA02\n",
       "cust_number                        0140104429\n",
       "name_customer                       COSTCO co\n",
       "clear_date                2019-10-23 00:00:00\n",
       "buisness_year                            2019\n",
       "doc_id                           2960583170.0\n",
       "posting_date              2019-09-30 00:00:00\n",
       "document_create_date      2019-09-30 00:00:00\n",
       "document_create_date.1    2019-09-30 00:00:00\n",
       "due_in_date               2019-10-18 00:00:00\n",
       "invoice_currency                          CAD\n",
       "document type                              RV\n",
       "posting_id                                1.0\n",
       "area_business                             NaN\n",
       "total_open_amount                    14759.29\n",
       "baseline_create_date      2019-10-08 00:00:00\n",
       "cust_payment_terms                       CA10\n",
       "invoice_id                       2960583170.0\n",
       "isOpen                                      0\n",
       "delay                                       5\n",
       "Name: 31500, dtype: object"
      ]
     },
     "execution_count": 17,
     "metadata": {},
     "output_type": "execute_result"
    }
   ],
   "source": [
    "# there are 45001 rows. We shall make the train set to be 70% of this\n",
    "df.iloc[31500]"
   ]
  },
  {
   "cell_type": "markdown",
   "metadata": {
    "id": "3MROsLssP7y9"
   },
   "source": []
  },
  {
   "cell_type": "markdown",
   "metadata": {
    "id": "pdxtu1O8P_9G"
   },
   "source": [
    "# Splitting the data on the basis of date"
   ]
  },
  {
   "cell_type": "code",
   "execution_count": 18,
   "metadata": {
    "colab": {
     "base_uri": "https://localhost:8080/"
    },
    "id": "VvAcUwNiKhg-",
    "outputId": "56b4c165-74d8-4a07-9330-42cb9d778612"
   },
   "outputs": [
    {
     "name": "stdout",
     "output_type": "stream",
     "text": [
      "<class 'pandas.core.frame.DataFrame'>\n",
      "RangeIndex: 14332 entries, 0 to 14331\n",
      "Data columns (total 21 columns):\n",
      " #   Column                  Non-Null Count  Dtype         \n",
      "---  ------                  --------------  -----         \n",
      " 0   index                   14332 non-null  int64         \n",
      " 1   business_code           14332 non-null  object        \n",
      " 2   cust_number             14332 non-null  object        \n",
      " 3   name_customer           14332 non-null  object        \n",
      " 4   clear_date              14332 non-null  datetime64[ns]\n",
      " 5   buisness_year           14332 non-null  int64         \n",
      " 6   doc_id                  14332 non-null  float64       \n",
      " 7   posting_date            14332 non-null  datetime64[ns]\n",
      " 8   document_create_date    14332 non-null  datetime64[ns]\n",
      " 9   document_create_date.1  14332 non-null  datetime64[ns]\n",
      " 10  due_in_date             14332 non-null  datetime64[ns]\n",
      " 11  invoice_currency        14332 non-null  object        \n",
      " 12  document type           14332 non-null  object        \n",
      " 13  posting_id              14332 non-null  float64       \n",
      " 14  area_business           0 non-null      float64       \n",
      " 15  total_open_amount       14332 non-null  float64       \n",
      " 16  baseline_create_date    14332 non-null  datetime64[ns]\n",
      " 17  cust_payment_terms      14332 non-null  object        \n",
      " 18  invoice_id              14332 non-null  float64       \n",
      " 19  isOpen                  14332 non-null  int64         \n",
      " 20  delay                   14332 non-null  int64         \n",
      "dtypes: datetime64[ns](6), float64(5), int64(4), object(6)\n",
      "memory usage: 2.3+ MB\n"
     ]
    }
   ],
   "source": [
    "train=df[df['baseline_create_date'] < '2019-10-01'].copy()\n",
    "test=df[df['baseline_create_date'] >= '2019-10-01'].reset_index(drop=True)\n",
    "test.info()"
   ]
  },
  {
   "cell_type": "code",
   "execution_count": 19,
   "metadata": {
    "colab": {
     "base_uri": "https://localhost:8080/"
    },
    "id": "HC94rgKiKk07",
    "outputId": "ee0dd71e-4f2b-4028-f921-0eeea683ffc0"
   },
   "outputs": [
    {
     "name": "stdout",
     "output_type": "stream",
     "text": [
      "(30669, 21)\n"
     ]
    }
   ],
   "source": [
    "print(train.shape) \n",
    "# It shows the number of rows and columns in the train part."
   ]
  },
  {
   "cell_type": "markdown",
   "metadata": {
    "id": "i24PImuKKo3U"
   },
   "source": []
  },
  {
   "cell_type": "code",
   "execution_count": 20,
   "metadata": {
    "colab": {
     "base_uri": "https://localhost:8080/"
    },
    "id": "7J_Sm2_JKt8W",
    "outputId": "1da0beff-a6bc-4ca6-e976-49f2e8e25f00"
   },
   "outputs": [
    {
     "name": "stdout",
     "output_type": "stream",
     "text": [
      "(14332, 21)\n"
     ]
    }
   ],
   "source": [
    "print(test.shape)\n",
    " # It shows the number of rows and columns in the test part."
   ]
  },
  {
   "cell_type": "code",
   "execution_count": 21,
   "metadata": {
    "colab": {
     "base_uri": "https://localhost:8080/"
    },
    "id": "xafK2Ri1K0x_",
    "outputId": "b62af30f-84c8-4ba9-cc3d-99df76d6d105"
   },
   "outputs": [
    {
     "name": "stdout",
     "output_type": "stream",
     "text": [
      "<class 'pandas.core.frame.DataFrame'>\n",
      "Int64Index: 30669 entries, 0 to 30668\n",
      "Data columns (total 21 columns):\n",
      " #   Column                  Non-Null Count  Dtype         \n",
      "---  ------                  --------------  -----         \n",
      " 0   index                   30669 non-null  int64         \n",
      " 1   business_code           30669 non-null  object        \n",
      " 2   cust_number             30669 non-null  object        \n",
      " 3   name_customer           30669 non-null  object        \n",
      " 4   clear_date              30669 non-null  datetime64[ns]\n",
      " 5   buisness_year           30669 non-null  int64         \n",
      " 6   doc_id                  30669 non-null  float64       \n",
      " 7   posting_date            30669 non-null  datetime64[ns]\n",
      " 8   document_create_date    30669 non-null  datetime64[ns]\n",
      " 9   document_create_date.1  30669 non-null  datetime64[ns]\n",
      " 10  due_in_date             30669 non-null  datetime64[ns]\n",
      " 11  invoice_currency        30669 non-null  object        \n",
      " 12  document type           30669 non-null  object        \n",
      " 13  posting_id              30669 non-null  float64       \n",
      " 14  area_business           0 non-null      float64       \n",
      " 15  total_open_amount       30669 non-null  float64       \n",
      " 16  baseline_create_date    30669 non-null  datetime64[ns]\n",
      " 17  cust_payment_terms      30669 non-null  object        \n",
      " 18  invoice_id              30665 non-null  float64       \n",
      " 19  isOpen                  30669 non-null  int64         \n",
      " 20  delay                   30669 non-null  int64         \n",
      "dtypes: datetime64[ns](6), float64(5), int64(4), object(6)\n",
      "memory usage: 5.1+ MB\n"
     ]
    }
   ],
   "source": [
    "train.info() \n",
    "# Information regarding the train set."
   ]
  },
  {
   "cell_type": "markdown",
   "metadata": {},
   "source": [
    "# EDA"
   ]
  },
  {
   "cell_type": "markdown",
   "metadata": {},
   "source": [
    "## Removing Constant and Quasi constant data"
   ]
  },
  {
   "cell_type": "code",
   "execution_count": 22,
   "metadata": {
    "colab": {
     "base_uri": "https://localhost:8080/"
    },
    "id": "LF08WabpK9q7",
    "outputId": "c1c32161-abd6-443f-e9f8-d1179e40481e"
   },
   "outputs": [
    {
     "data": {
      "text/plain": [
       "index                     30669\n",
       "business_code                 6\n",
       "cust_number                1299\n",
       "name_customer              3517\n",
       "clear_date                  283\n",
       "buisness_year                 1\n",
       "doc_id                    30669\n",
       "posting_date                275\n",
       "document_create_date        280\n",
       "document_create_date.1      275\n",
       "due_in_date                 337\n",
       "invoice_currency              2\n",
       "document type                 2\n",
       "posting_id                    1\n",
       "area_business                 0\n",
       "total_open_amount         28139\n",
       "baseline_create_date        275\n",
       "cust_payment_terms           63\n",
       "invoice_id                30665\n",
       "isOpen                        1\n",
       "delay                       184\n",
       "dtype: int64"
      ]
     },
     "execution_count": 22,
     "metadata": {},
     "output_type": "execute_result"
    }
   ],
   "source": [
    "train.nunique() \n",
    "# identifies the number of unique entries in each column in the train set."
   ]
  },
  {
   "cell_type": "code",
   "execution_count": 23,
   "metadata": {
    "colab": {
     "base_uri": "https://localhost:8080/"
    },
    "id": "7TjQ6LsHLASV",
    "outputId": "157e389f-9d59-403a-fe31-91c766ea95bf"
   },
   "outputs": [
    {
     "data": {
      "text/plain": [
       "0"
      ]
     },
     "execution_count": 23,
     "metadata": {},
     "output_type": "execute_result"
    }
   ],
   "source": [
    "train.duplicated().sum() \n",
    "# Find the duplicates in the trainset.\n",
    "# It was concluded that there was no duplicates found."
   ]
  },
  {
   "cell_type": "code",
   "execution_count": 24,
   "metadata": {
    "colab": {
     "base_uri": "https://localhost:8080/"
    },
    "id": "YizwsKjnLDl8",
    "outputId": "e02e2a54-30d9-4435-b2a9-8f336760d965"
   },
   "outputs": [
    {
     "data": {
      "text/plain": [
       "index                     30669\n",
       "business_code                 6\n",
       "cust_number                1299\n",
       "name_customer              3517\n",
       "clear_date                  283\n",
       "buisness_year                 1\n",
       "doc_id                    30669\n",
       "posting_date                275\n",
       "document_create_date        280\n",
       "document_create_date.1      275\n",
       "due_in_date                 337\n",
       "invoice_currency              2\n",
       "document type                 2\n",
       "posting_id                    1\n",
       "area_business                 0\n",
       "total_open_amount         28139\n",
       "baseline_create_date        275\n",
       "cust_payment_terms           63\n",
       "invoice_id                30665\n",
       "isOpen                        1\n",
       "delay                       184\n",
       "dtype: int64"
      ]
     },
     "execution_count": 24,
     "metadata": {},
     "output_type": "execute_result"
    }
   ],
   "source": [
    "train.nunique()\n",
    "#identifies the number of unique entries in each column in the train set."
   ]
  },
  {
   "cell_type": "code",
   "execution_count": 25,
   "metadata": {
    "colab": {
     "base_uri": "https://localhost:8080/",
     "height": 314
    },
    "id": "6IYUR72HLGNg",
    "outputId": "7f3c90b7-2e0b-4518-8b7d-abe311a7f5f0"
   },
   "outputs": [
    {
     "data": {
      "text/html": [
       "<div>\n",
       "<style scoped>\n",
       "    .dataframe tbody tr th:only-of-type {\n",
       "        vertical-align: middle;\n",
       "    }\n",
       "\n",
       "    .dataframe tbody tr th {\n",
       "        vertical-align: top;\n",
       "    }\n",
       "\n",
       "    .dataframe thead th {\n",
       "        text-align: right;\n",
       "    }\n",
       "</style>\n",
       "<table border=\"1\" class=\"dataframe\">\n",
       "  <thead>\n",
       "    <tr style=\"text-align: right;\">\n",
       "      <th></th>\n",
       "      <th>index</th>\n",
       "      <th>buisness_year</th>\n",
       "      <th>doc_id</th>\n",
       "      <th>posting_id</th>\n",
       "      <th>area_business</th>\n",
       "      <th>total_open_amount</th>\n",
       "      <th>invoice_id</th>\n",
       "      <th>isOpen</th>\n",
       "      <th>delay</th>\n",
       "    </tr>\n",
       "  </thead>\n",
       "  <tbody>\n",
       "    <tr>\n",
       "      <th>count</th>\n",
       "      <td>30669.000000</td>\n",
       "      <td>30669.0</td>\n",
       "      <td>3.066900e+04</td>\n",
       "      <td>30669.0</td>\n",
       "      <td>0.0</td>\n",
       "      <td>30669.000000</td>\n",
       "      <td>3.066500e+04</td>\n",
       "      <td>30669.0</td>\n",
       "      <td>30669.000000</td>\n",
       "    </tr>\n",
       "    <tr>\n",
       "      <th>mean</th>\n",
       "      <td>22486.884704</td>\n",
       "      <td>2019.0</td>\n",
       "      <td>2.011491e+09</td>\n",
       "      <td>1.0</td>\n",
       "      <td>NaN</td>\n",
       "      <td>32134.341698</td>\n",
       "      <td>2.010514e+09</td>\n",
       "      <td>0.0</td>\n",
       "      <td>1.132609</td>\n",
       "    </tr>\n",
       "    <tr>\n",
       "      <th>std</th>\n",
       "      <td>12992.103347</td>\n",
       "      <td>0.0</td>\n",
       "      <td>2.888303e+08</td>\n",
       "      <td>0.0</td>\n",
       "      <td>NaN</td>\n",
       "      <td>40661.266207</td>\n",
       "      <td>2.758945e+08</td>\n",
       "      <td>0.0</td>\n",
       "      <td>11.850900</td>\n",
       "    </tr>\n",
       "    <tr>\n",
       "      <th>min</th>\n",
       "      <td>2.000000</td>\n",
       "      <td>2019.0</td>\n",
       "      <td>1.928502e+09</td>\n",
       "      <td>1.0</td>\n",
       "      <td>NaN</td>\n",
       "      <td>3.420000</td>\n",
       "      <td>1.928502e+09</td>\n",
       "      <td>0.0</td>\n",
       "      <td>-89.000000</td>\n",
       "    </tr>\n",
       "    <tr>\n",
       "      <th>25%</th>\n",
       "      <td>11233.000000</td>\n",
       "      <td>2019.0</td>\n",
       "      <td>1.928991e+09</td>\n",
       "      <td>1.0</td>\n",
       "      <td>NaN</td>\n",
       "      <td>4578.210000</td>\n",
       "      <td>1.928991e+09</td>\n",
       "      <td>0.0</td>\n",
       "      <td>-3.000000</td>\n",
       "    </tr>\n",
       "    <tr>\n",
       "      <th>50%</th>\n",
       "      <td>22523.000000</td>\n",
       "      <td>2019.0</td>\n",
       "      <td>1.929406e+09</td>\n",
       "      <td>1.0</td>\n",
       "      <td>NaN</td>\n",
       "      <td>17159.050000</td>\n",
       "      <td>1.929406e+09</td>\n",
       "      <td>0.0</td>\n",
       "      <td>0.000000</td>\n",
       "    </tr>\n",
       "    <tr>\n",
       "      <th>75%</th>\n",
       "      <td>33717.000000</td>\n",
       "      <td>2019.0</td>\n",
       "      <td>1.929748e+09</td>\n",
       "      <td>1.0</td>\n",
       "      <td>NaN</td>\n",
       "      <td>46301.480000</td>\n",
       "      <td>1.929747e+09</td>\n",
       "      <td>0.0</td>\n",
       "      <td>2.000000</td>\n",
       "    </tr>\n",
       "    <tr>\n",
       "      <th>max</th>\n",
       "      <td>45000.000000</td>\n",
       "      <td>2019.0</td>\n",
       "      <td>9.500000e+09</td>\n",
       "      <td>1.0</td>\n",
       "      <td>NaN</td>\n",
       "      <td>860880.000000</td>\n",
       "      <td>2.960583e+09</td>\n",
       "      <td>0.0</td>\n",
       "      <td>277.000000</td>\n",
       "    </tr>\n",
       "  </tbody>\n",
       "</table>\n",
       "</div>"
      ],
      "text/plain": [
       "              index  buisness_year        doc_id  posting_id  area_business  \\\n",
       "count  30669.000000        30669.0  3.066900e+04     30669.0            0.0   \n",
       "mean   22486.884704         2019.0  2.011491e+09         1.0            NaN   \n",
       "std    12992.103347            0.0  2.888303e+08         0.0            NaN   \n",
       "min        2.000000         2019.0  1.928502e+09         1.0            NaN   \n",
       "25%    11233.000000         2019.0  1.928991e+09         1.0            NaN   \n",
       "50%    22523.000000         2019.0  1.929406e+09         1.0            NaN   \n",
       "75%    33717.000000         2019.0  1.929748e+09         1.0            NaN   \n",
       "max    45000.000000         2019.0  9.500000e+09         1.0            NaN   \n",
       "\n",
       "       total_open_amount    invoice_id   isOpen         delay  \n",
       "count       30669.000000  3.066500e+04  30669.0  30669.000000  \n",
       "mean        32134.341698  2.010514e+09      0.0      1.132609  \n",
       "std         40661.266207  2.758945e+08      0.0     11.850900  \n",
       "min             3.420000  1.928502e+09      0.0    -89.000000  \n",
       "25%          4578.210000  1.928991e+09      0.0     -3.000000  \n",
       "50%         17159.050000  1.929406e+09      0.0      0.000000  \n",
       "75%         46301.480000  1.929747e+09      0.0      2.000000  \n",
       "max        860880.000000  2.960583e+09      0.0    277.000000  "
      ]
     },
     "execution_count": 25,
     "metadata": {},
     "output_type": "execute_result"
    }
   ],
   "source": [
    "train.describe() \n",
    "# Describes the trainset."
   ]
  },
  {
   "cell_type": "code",
   "execution_count": 26,
   "metadata": {
    "id": "jHJ2TkjdLJMf"
   },
   "outputs": [],
   "source": [
    "train.drop([\"buisness_year\",\"isOpen\",\"posting_id\",\"area_business\"],axis=1,inplace=True) \n",
    "# dropping this constant and quasi constant columns."
   ]
  },
  {
   "cell_type": "markdown",
   "metadata": {
    "id": "ujzdqugkclrq"
   },
   "source": [
    "# Checking correlation between numerical columns"
   ]
  },
  {
   "cell_type": "code",
   "execution_count": 27,
   "metadata": {
    "colab": {
     "base_uri": "https://localhost:8080/",
     "height": 445
    },
    "id": "JOmm1fhPLO4I",
    "outputId": "a51d1f24-02f5-4949-c400-9dd87bc1b83d"
   },
   "outputs": [
    {
     "name": "stdout",
     "output_type": "stream",
     "text": [
      "['index', 'doc_id', 'total_open_amount', 'invoice_id', 'delay']\n"
     ]
    },
    {
     "data": {
      "text/plain": [
       "<AxesSubplot:>"
      ]
     },
     "execution_count": 27,
     "metadata": {},
     "output_type": "execute_result"
    },
    {
     "data": {
      "image/png": "[encoded data removed]",
      "text/plain": [
       "<Figure size 360x360 with 2 Axes>"
      ]
     },
     "metadata": {
      "needs_background": "light"
     },
     "output_type": "display_data"
    }
   ],
   "source": [
    "numerical_columns=train.select_dtypes(include=np.number).columns.tolist()\n",
    "print(numerical_columns)\n",
    "correlation=train.corr()\n",
    "plt.subplots(figsize=(5,5))\n",
    "sns.heatmap(correlation,annot=True)\n",
    "## From here we can observe that doc_id and invoice_id are too highly correlated columns and can be deleted."
   ]
  },
  {
   "cell_type": "code",
   "execution_count": 28,
   "metadata": {
    "colab": {
     "base_uri": "https://localhost:8080/",
     "height": 351
    },
    "id": "JjtKITwrLRRA",
    "outputId": "82bb493f-096e-4d02-f3b7-477461f7715d"
   },
   "outputs": [
    {
     "name": "stderr",
     "output_type": "stream",
     "text": [
      "c:\\users\\kiit\\appdata\\local\\programs\\python\\python37\\lib\\site-packages\\seaborn\\distributions.py:2557: FutureWarning: `distplot` is a deprecated function and will be removed in a future version. Please adapt your code to use either `displot` (a figure-level function with similar flexibility) or `histplot` (an axes-level function for histograms).\n",
      "  warnings.warn(msg, FutureWarning)\n"
     ]
    },
    {
     "data": {
      "text/plain": [
       "<AxesSubplot:xlabel='delay', ylabel='Density'>"
      ]
     },
     "execution_count": 28,
     "metadata": {},
     "output_type": "execute_result"
    },
    {
     "data": {
      "image/png": "[encoded data removed]",
      "text/plain": [
       "<Figure size 432x288 with 1 Axes>"
      ]
     },
     "metadata": {
      "needs_background": "light"
     },
     "output_type": "display_data"
    }
   ],
   "source": [
    "sns.distplot(train['delay']) \n",
    "# Plotting the delay ."
   ]
  },
  {
   "cell_type": "code",
   "execution_count": 29,
   "metadata": {
    "colab": {
     "base_uri": "https://localhost:8080/"
    },
    "id": "bCPTQmgZLZ1s",
    "outputId": "09962262-e63f-4630-a499-bc9c7abb5f8d"
   },
   "outputs": [
    {
     "data": {
      "text/plain": [
       "index                0.005842\n",
       "doc_id               0.143162\n",
       "total_open_amount    0.004467\n",
       "invoice_id           0.135599\n",
       "delay                1.000000\n",
       "Name: delay, dtype: float64"
      ]
     },
     "execution_count": 29,
     "metadata": {},
     "output_type": "execute_result"
    }
   ],
   "source": [
    "train.corr().loc['delay',:] \n",
    "#checking the correlation of delay with other columns."
   ]
  },
  {
   "cell_type": "code",
   "execution_count": 30,
   "metadata": {
    "id": "GaO3Bv9DLdpZ"
   },
   "outputs": [],
   "source": [
    "train.drop([\"doc_id\",\"invoice_id\"],axis=1,inplace=True)\n",
    " # As mentioned above dropping this columns."
   ]
  },
  {
   "cell_type": "code",
   "execution_count": 31,
   "metadata": {
    "colab": {
     "base_uri": "https://localhost:8080/"
    },
    "id": "RdOjLhNaLiuD",
    "outputId": "ba718e11-921f-496f-d224-2b02b8d9d923"
   },
   "outputs": [
    {
     "name": "stdout",
     "output_type": "stream",
     "text": [
      "<class 'pandas.core.frame.DataFrame'>\n",
      "Int64Index: 30669 entries, 0 to 30668\n",
      "Data columns (total 15 columns):\n",
      " #   Column                  Non-Null Count  Dtype         \n",
      "---  ------                  --------------  -----         \n",
      " 0   index                   30669 non-null  int64         \n",
      " 1   business_code           30669 non-null  object        \n",
      " 2   cust_number             30669 non-null  object        \n",
      " 3   name_customer           30669 non-null  object        \n",
      " 4   clear_date              30669 non-null  datetime64[ns]\n",
      " 5   posting_date            30669 non-null  datetime64[ns]\n",
      " 6   document_create_date    30669 non-null  datetime64[ns]\n",
      " 7   document_create_date.1  30669 non-null  datetime64[ns]\n",
      " 8   due_in_date             30669 non-null  datetime64[ns]\n",
      " 9   invoice_currency        30669 non-null  object        \n",
      " 10  document type           30669 non-null  object        \n",
      " 11  total_open_amount       30669 non-null  float64       \n",
      " 12  baseline_create_date    30669 non-null  datetime64[ns]\n",
      " 13  cust_payment_terms      30669 non-null  object        \n",
      " 14  delay                   30669 non-null  int64         \n",
      "dtypes: datetime64[ns](6), float64(1), int64(2), object(6)\n",
      "memory usage: 3.7+ MB\n"
     ]
    }
   ],
   "source": [
    "train.info() \n",
    "# info of the trainset."
   ]
  },
  {
   "cell_type": "code",
   "execution_count": 32,
   "metadata": {
    "colab": {
     "base_uri": "https://localhost:8080/",
     "height": 517
    },
    "id": "cRYre48RLmP1",
    "outputId": "c45324e0-55b2-4502-b875-1510ec639cfd"
   },
   "outputs": [
    {
     "data": {
      "text/plain": [
       "Text(0.5, 1.0, 'Count')"
      ]
     },
     "execution_count": 32,
     "metadata": {},
     "output_type": "execute_result"
    },
    {
     "data": {
      "image/png": "[encoded data removed]",
      "text/plain": [
       "<Figure size 1440x360 with 1 Axes>"
      ]
     },
     "metadata": {
      "needs_background": "light"
     },
     "output_type": "display_data"
    },
    {
     "data": {
      "image/png": "[encoded data removed]",
      "text/plain": [
       "<Figure size 1440x360 with 1 Axes>"
      ]
     },
     "metadata": {
      "needs_background": "light"
     },
     "output_type": "display_data"
    }
   ],
   "source": [
    "payment_terms = train.groupby(\"cust_payment_terms\")[\"delay\"].agg([\"mean\",\"count\"]).reset_index(drop=False)\n",
    "fig, ax = plt.subplots(figsize=(20,5))\n",
    "sns.barplot(x='cust_payment_terms',y='mean',data=payment_terms).set_title(\"Mean Delay\")\n",
    "fig, ax = plt.subplots(figsize=(20,5))\n",
    "sns.barplot(x='cust_payment_terms',y='count',data=payment_terms).set_title(\"Count\")\n",
    "# It was observed that the mean delay varies with the cust_payment_score and is not dependent on the frequency."
   ]
  },
  {
   "cell_type": "code",
   "execution_count": 33,
   "metadata": {
    "colab": {
     "base_uri": "https://localhost:8080/",
     "height": 350
    },
    "id": "mPG4Iq-RLpeN",
    "outputId": "7b572c30-efd3-48f7-f532-29df95e92154"
   },
   "outputs": [
    {
     "data": {
      "image/png": "[encoded data removed]",
      "text/plain": [
       "<Figure size 720x360 with 1 Axes>"
      ]
     },
     "metadata": {
      "needs_background": "light"
     },
     "output_type": "display_data"
    }
   ],
   "source": [
    "plt.figure(figsize=(10,5))\n",
    "sns.lineplot(x=train[\"due_in_date\"].dt.quarter, y=train.delay)\n",
    "plt.xlabel(\"Due Date Quarter\")\n",
    "plt.ylabel(\"Delay\")\n",
    "plt.title(\"Quarter vs Delay\")\n",
    "plt.show()\n",
    "#Checking Relation between Delay and Quarter\n",
    "#It is observed that the delay is high in the first two quarters and payments are early in the last quarter"
   ]
  },
  {
   "cell_type": "code",
   "execution_count": 34,
   "metadata": {
    "colab": {
     "base_uri": "https://localhost:8080/",
     "height": 338
    },
    "id": "dihdK2v1LtLm",
    "outputId": "0e0f68d7-7487-4602-e460-7bf6e60533ab"
   },
   "outputs": [
    {
     "data": {
      "image/png": "[encoded data removed]",
      "text/plain": [
       "<Figure size 1440x504 with 1 Axes>"
      ]
     },
     "metadata": {
      "needs_background": "light"
     },
     "output_type": "display_data"
    }
   ],
   "source": [
    "plt.figure(figsize=(20,7))\n",
    "plt.scatter(np.array(train[\"due_in_date\"].dt.isocalendar().week), train.delay,color='g')\n",
    "plt.xlabel(\"Due date\")\n",
    "plt.ylabel(\"Delay\")\n",
    "plt.title(\"Due date vs delay\")\n",
    "plt.show()"
   ]
  },
  {
   "cell_type": "code",
   "execution_count": 35,
   "metadata": {
    "colab": {
     "base_uri": "https://localhost:8080/",
     "height": 342
    },
    "id": "8UB6nSBBemqD",
    "outputId": "23bd1a91-eeb1-4147-b75a-e58d0673046b"
   },
   "outputs": [
    {
     "data": {
      "image/png": "[encoded data removed]",
      "text/plain": [
       "<Figure size 1800x648 with 1 Axes>"
      ]
     },
     "metadata": {
      "needs_background": "light"
     },
     "output_type": "display_data"
    }
   ],
   "source": [
    "plt.figure(figsize=(25,9))\n",
    "ax=sns.lineplot(x=np.array(train[\"due_in_date\"].dt.isocalendar().week), y=train.delay,size_order=2)\n",
    "ax.xaxis.set_major_locator(ticker.MultipleLocator(3))\n",
    "ax.xaxis.set_major_formatter(ticker.ScalarFormatter())\n",
    "plt.xlabel(\"Due Date\")\n",
    "plt.ylabel(\"Delay\")\n",
    "plt.title(\"Due Date vs Delay\")\n",
    "plt.show()\n",
    "#Checking relation between delay and week of year\n",
    "#It was noticed that the delays are high in the first 3 weeks of the year and the last 2 weeks of the year"
   ]
  },
  {
   "cell_type": "code",
   "execution_count": 36,
   "metadata": {
    "colab": {
     "base_uri": "https://localhost:8080/"
    },
    "id": "vLqz-82iLvuB",
    "outputId": "f2609a0f-91e0-4cc0-b99e-ef829e28a8b8"
   },
   "outputs": [
    {
     "data": {
      "text/plain": [
       "business_code            6\n",
       "cust_number           1299\n",
       "name_customer         3517\n",
       "invoice_currency         2\n",
       "document type            2\n",
       "cust_payment_terms      63\n",
       "dtype: int64"
      ]
     },
     "execution_count": 36,
     "metadata": {},
     "output_type": "execute_result"
    }
   ],
   "source": [
    "cat_columns=list(train.columns[train.dtypes=='object'])\n",
    "train[cat_columns].nunique()\n",
    "# Now Analysing the catagorical columns"
   ]
  },
  {
   "cell_type": "code",
   "execution_count": 37,
   "metadata": {
    "colab": {
     "base_uri": "https://localhost:8080/"
    },
    "id": "W615CW3bLyWj",
    "outputId": "9bf15195-f898-4234-a0fd-b410445ef58a"
   },
   "outputs": [
    {
     "name": "stdout",
     "output_type": "stream",
     "text": [
      "['U001' 'CA02' 'U013' 'U002' 'U005' 'U007']\n",
      "['USD' 'CAD']\n",
      "['RV' 'X2']\n"
     ]
    }
   ],
   "source": [
    "print(train.business_code.unique())\n",
    "#checking all unique business code , only 6 types are there.\n",
    "\n",
    "print(train.invoice_currency.unique())\n",
    "#checking invoice currency available ,  it is observed only 2 types are there.It can be cateogarised into binary column: \"isUSD\"\n",
    "\n",
    "print(train['document type'].unique())\n",
    "# checking the document type , only 2 types ate there."
   ]
  },
  {
   "cell_type": "code",
   "execution_count": 38,
   "metadata": {
    "colab": {
     "base_uri": "https://localhost:8080/"
    },
    "id": "uefFkjKKL09n",
    "outputId": "d9ff8515-7094-47ae-e4da-8d9f3eede731"
   },
   "outputs": [
    {
     "name": "stdout",
     "output_type": "stream",
     "text": [
      "USD    28282\n",
      "CAD     2387\n",
      "Name: invoice_currency, dtype: int64\n",
      "RV    30665\n",
      "X2        4\n",
      "Name: document type, dtype: int64\n"
     ]
    }
   ],
   "source": [
    "print(train.invoice_currency.value_counts())\n",
    "# it counts the number of invoice_currency in USD and CAD.\n",
    "print(train['document type'].value_counts()) \n",
    "# it counts the number of documents in RV and X2 type."
   ]
  },
  {
   "cell_type": "code",
   "execution_count": 39,
   "metadata": {
    "colab": {
     "base_uri": "https://localhost:8080/",
     "height": 971
    },
    "id": "S-7nqj2UgjXA",
    "outputId": "4e6f25b9-9d92-43d7-a6f8-8e8736b267b7"
   },
   "outputs": [
    {
     "data": {
      "text/plain": [
       "Text(0.5, 1.0, 'Invoice Currency vs Count')"
      ]
     },
     "execution_count": 39,
     "metadata": {},
     "output_type": "execute_result"
    },
    {
     "data": {
      "image/png": "[encoded data removed]",
      "text/plain": [
       "<Figure size 1080x504 with 2 Axes>"
      ]
     },
     "metadata": {
      "needs_background": "light"
     },
     "output_type": "display_data"
    }
   ],
   "source": [
    "currency_group = train.groupby(\"invoice_currency\")[\"delay\"].agg([\"mean\",\"count\"]).reset_index(drop=False)\n",
    "fig, ax = plt.subplots(1,2,figsize=(15,7),sharex=\"col\")\n",
    "sns.barplot(ax=ax[0],x='invoice_currency',y='mean',data=currency_group)\n",
    "ax[0].set_title(\"Invoice Currency vs Mean Delay\")\n",
    "# barplot for mean of both the currency types.\n",
    "\n",
    "sns.barplot(x='invoice_currency',y='count',data=currency_group)\n",
    "ax[1].set_title(\"Invoice Currency vs Count\")\n",
    "\n",
    "# barplot for count of both the currency types."
   ]
  },
  {
   "cell_type": "code",
   "execution_count": 40,
   "metadata": {
    "colab": {
     "base_uri": "https://localhost:8080/",
     "height": 387
    },
    "id": "WR1IuUIyL4AZ",
    "outputId": "71f49550-ee42-4fc7-8669-b3f8005bf671"
   },
   "outputs": [
    {
     "data": {
      "text/plain": [
       "<AxesSubplot:>"
      ]
     },
     "execution_count": 40,
     "metadata": {},
     "output_type": "execute_result"
    },
    {
     "data": {
      "image/png": "[encoded data removed]",
      "text/plain": [
       "<Figure size 432x288 with 2 Axes>"
      ]
     },
     "metadata": {
      "needs_background": "light"
     },
     "output_type": "display_data"
    }
   ],
   "source": [
    "cat_corr = pd.get_dummies(train[[\"business_code\",\"invoice_currency\",\"document type\"]]).corr()\n",
    "sns.heatmap(cat_corr)  # heatmap showing correlation."
   ]
  },
  {
   "cell_type": "code",
   "execution_count": 41,
   "metadata": {
    "id": "PD7_R608L7i3"
   },
   "outputs": [],
   "source": [
    "value = set(train[\"cust_payment_terms\"])\n",
    "key = list(range(1,len(value)+1))\n",
    "mapping = {}\n",
    "for k,v in zip(key,value):\n",
    "    mapping[k] = v\n",
    "\n",
    "##Function to map the label\n",
    "def payment_label_encoder(label):\n",
    "    return mapping.get(label,500)\n",
    "\n",
    "train[\"cust_payment_terms\"] =train[\"cust_payment_terms\"].apply(payment_label_encoder)\n",
    "test[\"cust_payment_terms\"] = test[\"cust_payment_terms\"].apply(payment_label_encoder)"
   ]
  },
  {
   "cell_type": "code",
   "execution_count": 42,
   "metadata": {
    "id": "Asd1EpB3L-dI"
   },
   "outputs": [],
   "source": [
    "businessOrdinalEncoder = OrdinalEncoder(handle_unknown=\"use_encoded_value\",unknown_value=15)\n",
    "train[\"business_code\"] = businessOrdinalEncoder.fit_transform(train[[\"business_code\"]])\n",
    "test[\"business_code\"] = businessOrdinalEncoder.transform(test[[\"business_code\"]])"
   ]
  },
  {
   "cell_type": "code",
   "execution_count": 43,
   "metadata": {
    "id": "5QIBGj7NMAoo"
   },
   "outputs": [],
   "source": [
    "train[\"due_week\"] = train[\"due_in_date\"].dt.isocalendar().week\n",
    "test[\"due_week\"] = test[\"due_in_date\"].dt.isocalendar().week"
   ]
  },
  {
   "cell_type": "code",
   "execution_count": 44,
   "metadata": {
    "id": "c6X6At-MMCgw"
   },
   "outputs": [],
   "source": [
    "currencyLabelEncoder = LabelEncoder() \n",
    "train[\"invoice_currency\"] = currencyLabelEncoder.fit_transform(train[\"invoice_currency\"])\n",
    "test[\"invoice_currency\"] = currencyLabelEncoder.transform(test[\"invoice_currency\"])"
   ]
  },
  {
   "cell_type": "code",
   "execution_count": 45,
   "metadata": {
    "id": "aHnAccx5MEXt"
   },
   "outputs": [],
   "source": [
    "train[\"baseline_month\"] = train[\"baseline_create_date\"].dt.month\n",
    "test[\"baseline_month\"] = test[\"baseline_create_date\"].dt.month"
   ]
  },
  {
   "cell_type": "code",
   "execution_count": 46,
   "metadata": {
    "id": "9IJPtW7OMGhA"
   },
   "outputs": [],
   "source": [
    "train[\"baseline_day\"] = train[\"baseline_create_date\"].dt.day\n",
    "test[\"baseline_day\"] = test[\"baseline_create_date\"].dt.day"
   ]
  },
  {
   "cell_type": "code",
   "execution_count": 47,
   "metadata": {
    "id": "syabg4a1MIYf"
   },
   "outputs": [],
   "source": [
    "train[\"due_baseline\"] = (train[\"due_in_date\"] - train[\"baseline_create_date\"]).dt.days\n",
    "test[\"due_baseline\"] = (test[\"due_in_date\"] - test[\"baseline_create_date\"]).dt.days"
   ]
  },
  {
   "cell_type": "code",
   "execution_count": 48,
   "metadata": {
    "id": "lZjZJ-4kMKlv"
   },
   "outputs": [],
   "source": [
    "cust_mean_delay=train.groupby(\"cust_number\")['delay'].mean().to_dict()\n",
    "train['mean_delay']=train['cust_number'].map(cust_mean_delay)\n",
    "test['mean_delay']=test['cust_number'].map(cust_mean_delay)\n",
    "test[\"mean_delay\"] = test[\"mean_delay\"].fillna(test[\"mean_delay\"].mean())"
   ]
  },
  {
   "cell_type": "code",
   "execution_count": 49,
   "metadata": {
    "id": "5qudiZJ1MMae"
   },
   "outputs": [],
   "source": [
    "x_train = train.loc[:,[\"invoice_currency\",\"total_open_amount\",\"cust_payment_terms\",\"baseline_month\",\"baseline_day\",\"due_baseline\",\"mean_delay\"]]\n",
    "y_train = train.loc[:,[\"delay\"]]"
   ]
  },
  {
   "cell_type": "code",
   "execution_count": 50,
   "metadata": {
    "id": "qKL4unozMOcC"
   },
   "outputs": [],
   "source": [
    "X = test.loc[:,[\"invoice_currency\",\"total_open_amount\",\"cust_payment_terms\",\"baseline_month\",\"baseline_day\",\"due_baseline\",\"mean_delay\"]]\n",
    "y = test.loc[:,[\"delay\"]]\n",
    "X_validation, X_test, y_validation, y_test = train_test_split(X, y, test_size=0.5, shuffle=False)\n",
    "#Thus keeping Train,Val and Test as 70%/15%/15%"
   ]
  },
  {
   "cell_type": "markdown",
   "metadata": {},
   "source": [
    "# Training and Tuning using Random Forest"
   ]
  },
  {
   "cell_type": "code",
   "execution_count": 51,
   "metadata": {
    "id": "nXtsDC6gMREv"
   },
   "outputs": [],
   "source": [
    "rfr = RandomForestRegressor(n_jobs=-1,n_estimators=200,max_depth=10)"
   ]
  },
  {
   "cell_type": "code",
   "execution_count": 52,
   "metadata": {
    "colab": {
     "base_uri": "https://localhost:8080/"
    },
    "id": "DPeXOVbNMV-U",
    "outputId": "b15754ba-0e2d-4c5b-f9b4-8a698d8e384a"
   },
   "outputs": [
    {
     "name": "stderr",
     "output_type": "stream",
     "text": [
      "c:\\users\\kiit\\appdata\\local\\programs\\python\\python37\\lib\\site-packages\\ipykernel_launcher.py:1: DataConversionWarning: A column-vector y was passed when a 1d array was expected. Please change the shape of y to (n_samples,), for example using ravel().\n",
      "  \"\"\"Entry point for launching an IPython kernel.\n"
     ]
    },
    {
     "data": {
      "text/plain": [
       "RandomForestRegressor(max_depth=10, n_estimators=200, n_jobs=-1)"
      ]
     },
     "execution_count": 52,
     "metadata": {},
     "output_type": "execute_result"
    }
   ],
   "source": [
    "rfr.fit(x_train,y_train)"
   ]
  },
  {
   "cell_type": "code",
   "execution_count": 53,
   "metadata": {
    "colab": {
     "base_uri": "https://localhost:8080/"
    },
    "id": "RZEMq44fMYu2",
    "outputId": "b18fb251-2fc3-4a39-8a48-f5854ca76e63"
   },
   "outputs": [
    {
     "name": "stdout",
     "output_type": "stream",
     "text": [
      "<class 'pandas.core.frame.DataFrame'>\n",
      "Int64Index: 7166 entries, 7166 to 14331\n",
      "Data columns (total 7 columns):\n",
      " #   Column              Non-Null Count  Dtype  \n",
      "---  ------              --------------  -----  \n",
      " 0   invoice_currency    7166 non-null   int32  \n",
      " 1   total_open_amount   7166 non-null   float64\n",
      " 2   cust_payment_terms  7166 non-null   int64  \n",
      " 3   baseline_month      7166 non-null   int64  \n",
      " 4   baseline_day        7166 non-null   int64  \n",
      " 5   due_baseline        7166 non-null   int64  \n",
      " 6   mean_delay          7166 non-null   float64\n",
      "dtypes: float64(2), int32(1), int64(4)\n",
      "memory usage: 419.9 KB\n"
     ]
    }
   ],
   "source": [
    "X_test.info()"
   ]
  },
  {
   "cell_type": "code",
   "execution_count": 54,
   "metadata": {
    "colab": {
     "base_uri": "https://localhost:8080/"
    },
    "id": "yTIIN3IEMnKx",
    "outputId": "474f720f-4965-445b-8976-15c94a041a1c"
   },
   "outputs": [
    {
     "data": {
      "text/plain": [
       "0.42525845166105025"
      ]
     },
     "execution_count": 54,
     "metadata": {},
     "output_type": "execute_result"
    }
   ],
   "source": [
    "rfr.score(X_validation,y_validation)"
   ]
  },
  {
   "cell_type": "code",
   "execution_count": 55,
   "metadata": {
    "colab": {
     "base_uri": "https://localhost:8080/"
    },
    "id": "bCzlj-MmMpes",
    "outputId": "b13ed6eb-f98e-4523-a50d-41d431fec05d"
   },
   "outputs": [],
   "source": [
    "y_pred = rfr.predict(X_validation)"
   ]
  },
  {
   "cell_type": "code",
   "execution_count": 56,
   "metadata": {
    "colab": {
     "base_uri": "https://localhost:8080/"
    },
    "id": "g1rXUEyGMtMF",
    "outputId": "e90ec9e3-11dd-4b74-8cd8-75e0db4bbd7c"
   },
   "outputs": [
    {
     "name": "stdout",
     "output_type": "stream",
     "text": [
      "Val Score 0.42525845166105025\n",
      "Train Score 0.7406630610611264\n"
     ]
    }
   ],
   "source": [
    "print(\"Val Score\",r2_score(y_validation, y_pred))\n",
    "print(\"Train Score\",r2_score(y_train, rfr.predict(x_train)))"
   ]
  },
  {
   "cell_type": "code",
   "execution_count": 57,
   "metadata": {
    "colab": {
     "base_uri": "https://localhost:8080/"
    },
    "id": "TX7BDhKIMwrN",
    "outputId": "8cc5e2a1-5dd0-409b-eaf4-153173b660a3"
   },
   "outputs": [
    {
     "name": "stdout",
     "output_type": "stream",
     "text": [
      "Fitting 5 folds for each of 9 candidates, totalling 45 fits\n"
     ]
    },
    {
     "name": "stderr",
     "output_type": "stream",
     "text": [
      "c:\\users\\kiit\\appdata\\local\\programs\\python\\python37\\lib\\site-packages\\sklearn\\model_selection\\_search.py:289: UserWarning: The total space of parameters 9 is smaller than n_iter=10. Running 9 iterations. For exhaustive searches, use GridSearchCV.\n",
      "  % (grid_size, self.n_iter, grid_size), UserWarning)\n",
      "c:\\users\\kiit\\appdata\\local\\programs\\python\\python37\\lib\\site-packages\\sklearn\\model_selection\\_validation.py:593: DataConversionWarning: A column-vector y was passed when a 1d array was expected. Please change the shape of y to (n_samples,), for example using ravel().\n",
      "  estimator.fit(X_train, y_train, **fit_params)\n",
      "c:\\users\\kiit\\appdata\\local\\programs\\python\\python37\\lib\\site-packages\\sklearn\\model_selection\\_validation.py:593: DataConversionWarning: A column-vector y was passed when a 1d array was expected. Please change the shape of y to (n_samples,), for example using ravel().\n",
      "  estimator.fit(X_train, y_train, **fit_params)\n",
      "c:\\users\\kiit\\appdata\\local\\programs\\python\\python37\\lib\\site-packages\\sklearn\\model_selection\\_validation.py:593: DataConversionWarning: A column-vector y was passed when a 1d array was expected. Please change the shape of y to (n_samples,), for example using ravel().\n",
      "  estimator.fit(X_train, y_train, **fit_params)\n",
      "c:\\users\\kiit\\appdata\\local\\programs\\python\\python37\\lib\\site-packages\\sklearn\\model_selection\\_validation.py:593: DataConversionWarning: A column-vector y was passed when a 1d array was expected. Please change the shape of y to (n_samples,), for example using ravel().\n",
      "  estimator.fit(X_train, y_train, **fit_params)\n",
      "c:\\users\\kiit\\appdata\\local\\programs\\python\\python37\\lib\\site-packages\\sklearn\\model_selection\\_validation.py:593: DataConversionWarning: A column-vector y was passed when a 1d array was expected. Please change the shape of y to (n_samples,), for example using ravel().\n",
      "  estimator.fit(X_train, y_train, **fit_params)\n",
      "c:\\users\\kiit\\appdata\\local\\programs\\python\\python37\\lib\\site-packages\\sklearn\\model_selection\\_validation.py:593: DataConversionWarning: A column-vector y was passed when a 1d array was expected. Please change the shape of y to (n_samples,), for example using ravel().\n",
      "  estimator.fit(X_train, y_train, **fit_params)\n",
      "c:\\users\\kiit\\appdata\\local\\programs\\python\\python37\\lib\\site-packages\\sklearn\\model_selection\\_validation.py:593: DataConversionWarning: A column-vector y was passed when a 1d array was expected. Please change the shape of y to (n_samples,), for example using ravel().\n",
      "  estimator.fit(X_train, y_train, **fit_params)\n",
      "c:\\users\\kiit\\appdata\\local\\programs\\python\\python37\\lib\\site-packages\\sklearn\\model_selection\\_validation.py:593: DataConversionWarning: A column-vector y was passed when a 1d array was expected. Please change the shape of y to (n_samples,), for example using ravel().\n",
      "  estimator.fit(X_train, y_train, **fit_params)\n"
     ]
    },
    {
     "ename": "KeyboardInterrupt",
     "evalue": "",
     "output_type": "error",
     "traceback": [
      "\u001b[1;31m---------------------------------------------------------------------------\u001b[0m",
      "\u001b[1;31mKeyboardInterrupt\u001b[0m                         Traceback (most recent call last)",
      "\u001b[1;32m<ipython-input-57-8aed2e0ad588>\u001b[0m in \u001b[0;36m<module>\u001b[1;34m\u001b[0m\n\u001b[0;32m      1\u001b[0m \u001b[0mreg_cv\u001b[0m \u001b[1;33m=\u001b[0m \u001b[0mRandomizedSearchCV\u001b[0m\u001b[1;33m(\u001b[0m\u001b[0mrfr\u001b[0m\u001b[1;33m,\u001b[0m \u001b[1;33m{\u001b[0m \u001b[1;34m'max_depth'\u001b[0m\u001b[1;33m:\u001b[0m \u001b[1;33m[\u001b[0m\u001b[1;36m8\u001b[0m\u001b[1;33m,\u001b[0m\u001b[1;36m10\u001b[0m\u001b[1;33m,\u001b[0m\u001b[1;36m15\u001b[0m\u001b[1;33m]\u001b[0m\u001b[1;33m,\u001b[0m \u001b[1;34m'n_estimators'\u001b[0m\u001b[1;33m:\u001b[0m \u001b[1;33m[\u001b[0m\u001b[1;36m200\u001b[0m\u001b[1;33m,\u001b[0m\u001b[1;36m500\u001b[0m\u001b[1;33m,\u001b[0m\u001b[1;36m1000\u001b[0m\u001b[1;33m]\u001b[0m\u001b[1;33m,\u001b[0m \u001b[1;33m}\u001b[0m\u001b[1;33m,\u001b[0m \u001b[0mverbose\u001b[0m\u001b[1;33m=\u001b[0m\u001b[1;36m1\u001b[0m\u001b[1;33m)\u001b[0m\u001b[1;33m\u001b[0m\u001b[1;33m\u001b[0m\u001b[0m\n\u001b[1;32m----> 2\u001b[1;33m \u001b[0mreg_cv\u001b[0m\u001b[1;33m.\u001b[0m\u001b[0mfit\u001b[0m\u001b[1;33m(\u001b[0m\u001b[0mx_train\u001b[0m\u001b[1;33m,\u001b[0m\u001b[0my_train\u001b[0m\u001b[1;33m)\u001b[0m\u001b[1;33m\u001b[0m\u001b[1;33m\u001b[0m\u001b[0m\n\u001b[0m",
      "\u001b[1;32mc:\\users\\kiit\\appdata\\local\\programs\\python\\python37\\lib\\site-packages\\sklearn\\utils\\validation.py\u001b[0m in \u001b[0;36minner_f\u001b[1;34m(*args, **kwargs)\u001b[0m\n\u001b[0;32m     61\u001b[0m             \u001b[0mextra_args\u001b[0m \u001b[1;33m=\u001b[0m \u001b[0mlen\u001b[0m\u001b[1;33m(\u001b[0m\u001b[0margs\u001b[0m\u001b[1;33m)\u001b[0m \u001b[1;33m-\u001b[0m \u001b[0mlen\u001b[0m\u001b[1;33m(\u001b[0m\u001b[0mall_args\u001b[0m\u001b[1;33m)\u001b[0m\u001b[1;33m\u001b[0m\u001b[1;33m\u001b[0m\u001b[0m\n\u001b[0;32m     62\u001b[0m             \u001b[1;32mif\u001b[0m \u001b[0mextra_args\u001b[0m \u001b[1;33m<=\u001b[0m \u001b[1;36m0\u001b[0m\u001b[1;33m:\u001b[0m\u001b[1;33m\u001b[0m\u001b[1;33m\u001b[0m\u001b[0m\n\u001b[1;32m---> 63\u001b[1;33m                 \u001b[1;32mreturn\u001b[0m \u001b[0mf\u001b[0m\u001b[1;33m(\u001b[0m\u001b[1;33m*\u001b[0m\u001b[0margs\u001b[0m\u001b[1;33m,\u001b[0m \u001b[1;33m**\u001b[0m\u001b[0mkwargs\u001b[0m\u001b[1;33m)\u001b[0m\u001b[1;33m\u001b[0m\u001b[1;33m\u001b[0m\u001b[0m\n\u001b[0m\u001b[0;32m     64\u001b[0m \u001b[1;33m\u001b[0m\u001b[0m\n\u001b[0;32m     65\u001b[0m             \u001b[1;31m# extra_args > 0\u001b[0m\u001b[1;33m\u001b[0m\u001b[1;33m\u001b[0m\u001b[1;33m\u001b[0m\u001b[0m\n",
      "\u001b[1;32mc:\\users\\kiit\\appdata\\local\\programs\\python\\python37\\lib\\site-packages\\sklearn\\model_selection\\_search.py\u001b[0m in \u001b[0;36mfit\u001b[1;34m(self, X, y, groups, **fit_params)\u001b[0m\n\u001b[0;32m    839\u001b[0m                 \u001b[1;32mreturn\u001b[0m \u001b[0mresults\u001b[0m\u001b[1;33m\u001b[0m\u001b[1;33m\u001b[0m\u001b[0m\n\u001b[0;32m    840\u001b[0m \u001b[1;33m\u001b[0m\u001b[0m\n\u001b[1;32m--> 841\u001b[1;33m             \u001b[0mself\u001b[0m\u001b[1;33m.\u001b[0m\u001b[0m_run_search\u001b[0m\u001b[1;33m(\u001b[0m\u001b[0mevaluate_candidates\u001b[0m\u001b[1;33m)\u001b[0m\u001b[1;33m\u001b[0m\u001b[1;33m\u001b[0m\u001b[0m\n\u001b[0m\u001b[0;32m    842\u001b[0m \u001b[1;33m\u001b[0m\u001b[0m\n\u001b[0;32m    843\u001b[0m             \u001b[1;31m# multimetric is determined here because in the case of a callable\u001b[0m\u001b[1;33m\u001b[0m\u001b[1;33m\u001b[0m\u001b[1;33m\u001b[0m\u001b[0m\n",
      "\u001b[1;32mc:\\users\\kiit\\appdata\\local\\programs\\python\\python37\\lib\\site-packages\\sklearn\\model_selection\\_search.py\u001b[0m in \u001b[0;36m_run_search\u001b[1;34m(self, evaluate_candidates)\u001b[0m\n\u001b[0;32m   1619\u001b[0m         evaluate_candidates(ParameterSampler(\n\u001b[0;32m   1620\u001b[0m             \u001b[0mself\u001b[0m\u001b[1;33m.\u001b[0m\u001b[0mparam_distributions\u001b[0m\u001b[1;33m,\u001b[0m \u001b[0mself\u001b[0m\u001b[1;33m.\u001b[0m\u001b[0mn_iter\u001b[0m\u001b[1;33m,\u001b[0m\u001b[1;33m\u001b[0m\u001b[1;33m\u001b[0m\u001b[0m\n\u001b[1;32m-> 1621\u001b[1;33m             random_state=self.random_state))\n\u001b[0m",
      "\u001b[1;32mc:\\users\\kiit\\appdata\\local\\programs\\python\\python37\\lib\\site-packages\\sklearn\\model_selection\\_search.py\u001b[0m in \u001b[0;36mevaluate_candidates\u001b[1;34m(candidate_params, cv, more_results)\u001b[0m\n\u001b[0;32m    807\u001b[0m                                    (split_idx, (train, test)) in product(\n\u001b[0;32m    808\u001b[0m                                    \u001b[0menumerate\u001b[0m\u001b[1;33m(\u001b[0m\u001b[0mcandidate_params\u001b[0m\u001b[1;33m)\u001b[0m\u001b[1;33m,\u001b[0m\u001b[1;33m\u001b[0m\u001b[1;33m\u001b[0m\u001b[0m\n\u001b[1;32m--> 809\u001b[1;33m                                    enumerate(cv.split(X, y, groups))))\n\u001b[0m\u001b[0;32m    810\u001b[0m \u001b[1;33m\u001b[0m\u001b[0m\n\u001b[0;32m    811\u001b[0m                 \u001b[1;32mif\u001b[0m \u001b[0mlen\u001b[0m\u001b[1;33m(\u001b[0m\u001b[0mout\u001b[0m\u001b[1;33m)\u001b[0m \u001b[1;33m<\u001b[0m \u001b[1;36m1\u001b[0m\u001b[1;33m:\u001b[0m\u001b[1;33m\u001b[0m\u001b[1;33m\u001b[0m\u001b[0m\n",
      "\u001b[1;32mc:\\users\\kiit\\appdata\\local\\programs\\python\\python37\\lib\\site-packages\\joblib\\parallel.py\u001b[0m in \u001b[0;36m__call__\u001b[1;34m(self, iterable)\u001b[0m\n\u001b[0;32m   1042\u001b[0m                 \u001b[0mself\u001b[0m\u001b[1;33m.\u001b[0m\u001b[0m_iterating\u001b[0m \u001b[1;33m=\u001b[0m \u001b[0mself\u001b[0m\u001b[1;33m.\u001b[0m\u001b[0m_original_iterator\u001b[0m \u001b[1;32mis\u001b[0m \u001b[1;32mnot\u001b[0m \u001b[1;32mNone\u001b[0m\u001b[1;33m\u001b[0m\u001b[1;33m\u001b[0m\u001b[0m\n\u001b[0;32m   1043\u001b[0m \u001b[1;33m\u001b[0m\u001b[0m\n\u001b[1;32m-> 1044\u001b[1;33m             \u001b[1;32mwhile\u001b[0m \u001b[0mself\u001b[0m\u001b[1;33m.\u001b[0m\u001b[0mdispatch_one_batch\u001b[0m\u001b[1;33m(\u001b[0m\u001b[0miterator\u001b[0m\u001b[1;33m)\u001b[0m\u001b[1;33m:\u001b[0m\u001b[1;33m\u001b[0m\u001b[1;33m\u001b[0m\u001b[0m\n\u001b[0m\u001b[0;32m   1045\u001b[0m                 \u001b[1;32mpass\u001b[0m\u001b[1;33m\u001b[0m\u001b[1;33m\u001b[0m\u001b[0m\n\u001b[0;32m   1046\u001b[0m \u001b[1;33m\u001b[0m\u001b[0m\n",
      "\u001b[1;32mc:\\users\\kiit\\appdata\\local\\programs\\python\\python37\\lib\\site-packages\\joblib\\parallel.py\u001b[0m in \u001b[0;36mdispatch_one_batch\u001b[1;34m(self, iterator)\u001b[0m\n\u001b[0;32m    857\u001b[0m                 \u001b[1;32mreturn\u001b[0m \u001b[1;32mFalse\u001b[0m\u001b[1;33m\u001b[0m\u001b[1;33m\u001b[0m\u001b[0m\n\u001b[0;32m    858\u001b[0m             \u001b[1;32melse\u001b[0m\u001b[1;33m:\u001b[0m\u001b[1;33m\u001b[0m\u001b[1;33m\u001b[0m\u001b[0m\n\u001b[1;32m--> 859\u001b[1;33m                 \u001b[0mself\u001b[0m\u001b[1;33m.\u001b[0m\u001b[0m_dispatch\u001b[0m\u001b[1;33m(\u001b[0m\u001b[0mtasks\u001b[0m\u001b[1;33m)\u001b[0m\u001b[1;33m\u001b[0m\u001b[1;33m\u001b[0m\u001b[0m\n\u001b[0m\u001b[0;32m    860\u001b[0m                 \u001b[1;32mreturn\u001b[0m \u001b[1;32mTrue\u001b[0m\u001b[1;33m\u001b[0m\u001b[1;33m\u001b[0m\u001b[0m\n\u001b[0;32m    861\u001b[0m \u001b[1;33m\u001b[0m\u001b[0m\n",
      "\u001b[1;32mc:\\users\\kiit\\appdata\\local\\programs\\python\\python37\\lib\\site-packages\\joblib\\parallel.py\u001b[0m in \u001b[0;36m_dispatch\u001b[1;34m(self, batch)\u001b[0m\n\u001b[0;32m    775\u001b[0m         \u001b[1;32mwith\u001b[0m \u001b[0mself\u001b[0m\u001b[1;33m.\u001b[0m\u001b[0m_lock\u001b[0m\u001b[1;33m:\u001b[0m\u001b[1;33m\u001b[0m\u001b[1;33m\u001b[0m\u001b[0m\n\u001b[0;32m    776\u001b[0m             \u001b[0mjob_idx\u001b[0m \u001b[1;33m=\u001b[0m \u001b[0mlen\u001b[0m\u001b[1;33m(\u001b[0m\u001b[0mself\u001b[0m\u001b[1;33m.\u001b[0m\u001b[0m_jobs\u001b[0m\u001b[1;33m)\u001b[0m\u001b[1;33m\u001b[0m\u001b[1;33m\u001b[0m\u001b[0m\n\u001b[1;32m--> 777\u001b[1;33m             \u001b[0mjob\u001b[0m \u001b[1;33m=\u001b[0m \u001b[0mself\u001b[0m\u001b[1;33m.\u001b[0m\u001b[0m_backend\u001b[0m\u001b[1;33m.\u001b[0m\u001b[0mapply_async\u001b[0m\u001b[1;33m(\u001b[0m\u001b[0mbatch\u001b[0m\u001b[1;33m,\u001b[0m \u001b[0mcallback\u001b[0m\u001b[1;33m=\u001b[0m\u001b[0mcb\u001b[0m\u001b[1;33m)\u001b[0m\u001b[1;33m\u001b[0m\u001b[1;33m\u001b[0m\u001b[0m\n\u001b[0m\u001b[0;32m    778\u001b[0m             \u001b[1;31m# A job can complete so quickly than its callback is\u001b[0m\u001b[1;33m\u001b[0m\u001b[1;33m\u001b[0m\u001b[1;33m\u001b[0m\u001b[0m\n\u001b[0;32m    779\u001b[0m             \u001b[1;31m# called before we get here, causing self._jobs to\u001b[0m\u001b[1;33m\u001b[0m\u001b[1;33m\u001b[0m\u001b[1;33m\u001b[0m\u001b[0m\n",
      "\u001b[1;32mc:\\users\\kiit\\appdata\\local\\programs\\python\\python37\\lib\\site-packages\\joblib\\_parallel_backends.py\u001b[0m in \u001b[0;36mapply_async\u001b[1;34m(self, func, callback)\u001b[0m\n\u001b[0;32m    206\u001b[0m     \u001b[1;32mdef\u001b[0m \u001b[0mapply_async\u001b[0m\u001b[1;33m(\u001b[0m\u001b[0mself\u001b[0m\u001b[1;33m,\u001b[0m \u001b[0mfunc\u001b[0m\u001b[1;33m,\u001b[0m \u001b[0mcallback\u001b[0m\u001b[1;33m=\u001b[0m\u001b[1;32mNone\u001b[0m\u001b[1;33m)\u001b[0m\u001b[1;33m:\u001b[0m\u001b[1;33m\u001b[0m\u001b[1;33m\u001b[0m\u001b[0m\n\u001b[0;32m    207\u001b[0m         \u001b[1;34m\"\"\"Schedule a func to be run\"\"\"\u001b[0m\u001b[1;33m\u001b[0m\u001b[1;33m\u001b[0m\u001b[0m\n\u001b[1;32m--> 208\u001b[1;33m         \u001b[0mresult\u001b[0m \u001b[1;33m=\u001b[0m \u001b[0mImmediateResult\u001b[0m\u001b[1;33m(\u001b[0m\u001b[0mfunc\u001b[0m\u001b[1;33m)\u001b[0m\u001b[1;33m\u001b[0m\u001b[1;33m\u001b[0m\u001b[0m\n\u001b[0m\u001b[0;32m    209\u001b[0m         \u001b[1;32mif\u001b[0m \u001b[0mcallback\u001b[0m\u001b[1;33m:\u001b[0m\u001b[1;33m\u001b[0m\u001b[1;33m\u001b[0m\u001b[0m\n\u001b[0;32m    210\u001b[0m             \u001b[0mcallback\u001b[0m\u001b[1;33m(\u001b[0m\u001b[0mresult\u001b[0m\u001b[1;33m)\u001b[0m\u001b[1;33m\u001b[0m\u001b[1;33m\u001b[0m\u001b[0m\n",
      "\u001b[1;32mc:\\users\\kiit\\appdata\\local\\programs\\python\\python37\\lib\\site-packages\\joblib\\_parallel_backends.py\u001b[0m in \u001b[0;36m__init__\u001b[1;34m(self, batch)\u001b[0m\n\u001b[0;32m    570\u001b[0m         \u001b[1;31m# Don't delay the application, to avoid keeping the input\u001b[0m\u001b[1;33m\u001b[0m\u001b[1;33m\u001b[0m\u001b[1;33m\u001b[0m\u001b[0m\n\u001b[0;32m    571\u001b[0m         \u001b[1;31m# arguments in memory\u001b[0m\u001b[1;33m\u001b[0m\u001b[1;33m\u001b[0m\u001b[1;33m\u001b[0m\u001b[0m\n\u001b[1;32m--> 572\u001b[1;33m         \u001b[0mself\u001b[0m\u001b[1;33m.\u001b[0m\u001b[0mresults\u001b[0m \u001b[1;33m=\u001b[0m \u001b[0mbatch\u001b[0m\u001b[1;33m(\u001b[0m\u001b[1;33m)\u001b[0m\u001b[1;33m\u001b[0m\u001b[1;33m\u001b[0m\u001b[0m\n\u001b[0m\u001b[0;32m    573\u001b[0m \u001b[1;33m\u001b[0m\u001b[0m\n\u001b[0;32m    574\u001b[0m     \u001b[1;32mdef\u001b[0m \u001b[0mget\u001b[0m\u001b[1;33m(\u001b[0m\u001b[0mself\u001b[0m\u001b[1;33m)\u001b[0m\u001b[1;33m:\u001b[0m\u001b[1;33m\u001b[0m\u001b[1;33m\u001b[0m\u001b[0m\n",
      "\u001b[1;32mc:\\users\\kiit\\appdata\\local\\programs\\python\\python37\\lib\\site-packages\\joblib\\parallel.py\u001b[0m in \u001b[0;36m__call__\u001b[1;34m(self)\u001b[0m\n\u001b[0;32m    261\u001b[0m         \u001b[1;32mwith\u001b[0m \u001b[0mparallel_backend\u001b[0m\u001b[1;33m(\u001b[0m\u001b[0mself\u001b[0m\u001b[1;33m.\u001b[0m\u001b[0m_backend\u001b[0m\u001b[1;33m,\u001b[0m \u001b[0mn_jobs\u001b[0m\u001b[1;33m=\u001b[0m\u001b[0mself\u001b[0m\u001b[1;33m.\u001b[0m\u001b[0m_n_jobs\u001b[0m\u001b[1;33m)\u001b[0m\u001b[1;33m:\u001b[0m\u001b[1;33m\u001b[0m\u001b[1;33m\u001b[0m\u001b[0m\n\u001b[0;32m    262\u001b[0m             return [func(*args, **kwargs)\n\u001b[1;32m--> 263\u001b[1;33m                     for func, args, kwargs in self.items]\n\u001b[0m\u001b[0;32m    264\u001b[0m \u001b[1;33m\u001b[0m\u001b[0m\n\u001b[0;32m    265\u001b[0m     \u001b[1;32mdef\u001b[0m \u001b[0m__reduce__\u001b[0m\u001b[1;33m(\u001b[0m\u001b[0mself\u001b[0m\u001b[1;33m)\u001b[0m\u001b[1;33m:\u001b[0m\u001b[1;33m\u001b[0m\u001b[1;33m\u001b[0m\u001b[0m\n",
      "\u001b[1;32mc:\\users\\kiit\\appdata\\local\\programs\\python\\python37\\lib\\site-packages\\joblib\\parallel.py\u001b[0m in \u001b[0;36m<listcomp>\u001b[1;34m(.0)\u001b[0m\n\u001b[0;32m    261\u001b[0m         \u001b[1;32mwith\u001b[0m \u001b[0mparallel_backend\u001b[0m\u001b[1;33m(\u001b[0m\u001b[0mself\u001b[0m\u001b[1;33m.\u001b[0m\u001b[0m_backend\u001b[0m\u001b[1;33m,\u001b[0m \u001b[0mn_jobs\u001b[0m\u001b[1;33m=\u001b[0m\u001b[0mself\u001b[0m\u001b[1;33m.\u001b[0m\u001b[0m_n_jobs\u001b[0m\u001b[1;33m)\u001b[0m\u001b[1;33m:\u001b[0m\u001b[1;33m\u001b[0m\u001b[1;33m\u001b[0m\u001b[0m\n\u001b[0;32m    262\u001b[0m             return [func(*args, **kwargs)\n\u001b[1;32m--> 263\u001b[1;33m                     for func, args, kwargs in self.items]\n\u001b[0m\u001b[0;32m    264\u001b[0m \u001b[1;33m\u001b[0m\u001b[0m\n\u001b[0;32m    265\u001b[0m     \u001b[1;32mdef\u001b[0m \u001b[0m__reduce__\u001b[0m\u001b[1;33m(\u001b[0m\u001b[0mself\u001b[0m\u001b[1;33m)\u001b[0m\u001b[1;33m:\u001b[0m\u001b[1;33m\u001b[0m\u001b[1;33m\u001b[0m\u001b[0m\n",
      "\u001b[1;32mc:\\users\\kiit\\appdata\\local\\programs\\python\\python37\\lib\\site-packages\\sklearn\\utils\\fixes.py\u001b[0m in \u001b[0;36m__call__\u001b[1;34m(self, *args, **kwargs)\u001b[0m\n\u001b[0;32m    220\u001b[0m     \u001b[1;32mdef\u001b[0m \u001b[0m__call__\u001b[0m\u001b[1;33m(\u001b[0m\u001b[0mself\u001b[0m\u001b[1;33m,\u001b[0m \u001b[1;33m*\u001b[0m\u001b[0margs\u001b[0m\u001b[1;33m,\u001b[0m \u001b[1;33m**\u001b[0m\u001b[0mkwargs\u001b[0m\u001b[1;33m)\u001b[0m\u001b[1;33m:\u001b[0m\u001b[1;33m\u001b[0m\u001b[1;33m\u001b[0m\u001b[0m\n\u001b[0;32m    221\u001b[0m         \u001b[1;32mwith\u001b[0m \u001b[0mconfig_context\u001b[0m\u001b[1;33m(\u001b[0m\u001b[1;33m**\u001b[0m\u001b[0mself\u001b[0m\u001b[1;33m.\u001b[0m\u001b[0mconfig\u001b[0m\u001b[1;33m)\u001b[0m\u001b[1;33m:\u001b[0m\u001b[1;33m\u001b[0m\u001b[1;33m\u001b[0m\u001b[0m\n\u001b[1;32m--> 222\u001b[1;33m             \u001b[1;32mreturn\u001b[0m \u001b[0mself\u001b[0m\u001b[1;33m.\u001b[0m\u001b[0mfunction\u001b[0m\u001b[1;33m(\u001b[0m\u001b[1;33m*\u001b[0m\u001b[0margs\u001b[0m\u001b[1;33m,\u001b[0m \u001b[1;33m**\u001b[0m\u001b[0mkwargs\u001b[0m\u001b[1;33m)\u001b[0m\u001b[1;33m\u001b[0m\u001b[1;33m\u001b[0m\u001b[0m\n\u001b[0m",
      "\u001b[1;32mc:\\users\\kiit\\appdata\\local\\programs\\python\\python37\\lib\\site-packages\\sklearn\\model_selection\\_validation.py\u001b[0m in \u001b[0;36m_fit_and_score\u001b[1;34m(estimator, X, y, scorer, train, test, verbose, parameters, fit_params, return_train_score, return_parameters, return_n_test_samples, return_times, return_estimator, split_progress, candidate_progress, error_score)\u001b[0m\n\u001b[0;32m    591\u001b[0m             \u001b[0mestimator\u001b[0m\u001b[1;33m.\u001b[0m\u001b[0mfit\u001b[0m\u001b[1;33m(\u001b[0m\u001b[0mX_train\u001b[0m\u001b[1;33m,\u001b[0m \u001b[1;33m**\u001b[0m\u001b[0mfit_params\u001b[0m\u001b[1;33m)\u001b[0m\u001b[1;33m\u001b[0m\u001b[1;33m\u001b[0m\u001b[0m\n\u001b[0;32m    592\u001b[0m         \u001b[1;32melse\u001b[0m\u001b[1;33m:\u001b[0m\u001b[1;33m\u001b[0m\u001b[1;33m\u001b[0m\u001b[0m\n\u001b[1;32m--> 593\u001b[1;33m             \u001b[0mestimator\u001b[0m\u001b[1;33m.\u001b[0m\u001b[0mfit\u001b[0m\u001b[1;33m(\u001b[0m\u001b[0mX_train\u001b[0m\u001b[1;33m,\u001b[0m \u001b[0my_train\u001b[0m\u001b[1;33m,\u001b[0m \u001b[1;33m**\u001b[0m\u001b[0mfit_params\u001b[0m\u001b[1;33m)\u001b[0m\u001b[1;33m\u001b[0m\u001b[1;33m\u001b[0m\u001b[0m\n\u001b[0m\u001b[0;32m    594\u001b[0m \u001b[1;33m\u001b[0m\u001b[0m\n\u001b[0;32m    595\u001b[0m     \u001b[1;32mexcept\u001b[0m \u001b[0mException\u001b[0m \u001b[1;32mas\u001b[0m \u001b[0me\u001b[0m\u001b[1;33m:\u001b[0m\u001b[1;33m\u001b[0m\u001b[1;33m\u001b[0m\u001b[0m\n",
      "\u001b[1;32mc:\\users\\kiit\\appdata\\local\\programs\\python\\python37\\lib\\site-packages\\sklearn\\ensemble\\_forest.py\u001b[0m in \u001b[0;36mfit\u001b[1;34m(self, X, y, sample_weight)\u001b[0m\n\u001b[0;32m    391\u001b[0m                     \u001b[0mverbose\u001b[0m\u001b[1;33m=\u001b[0m\u001b[0mself\u001b[0m\u001b[1;33m.\u001b[0m\u001b[0mverbose\u001b[0m\u001b[1;33m,\u001b[0m \u001b[0mclass_weight\u001b[0m\u001b[1;33m=\u001b[0m\u001b[0mself\u001b[0m\u001b[1;33m.\u001b[0m\u001b[0mclass_weight\u001b[0m\u001b[1;33m,\u001b[0m\u001b[1;33m\u001b[0m\u001b[1;33m\u001b[0m\u001b[0m\n\u001b[0;32m    392\u001b[0m                     n_samples_bootstrap=n_samples_bootstrap)\n\u001b[1;32m--> 393\u001b[1;33m                 for i, t in enumerate(trees))\n\u001b[0m\u001b[0;32m    394\u001b[0m \u001b[1;33m\u001b[0m\u001b[0m\n\u001b[0;32m    395\u001b[0m             \u001b[1;31m# Collect newly grown trees\u001b[0m\u001b[1;33m\u001b[0m\u001b[1;33m\u001b[0m\u001b[1;33m\u001b[0m\u001b[0m\n",
      "\u001b[1;32mc:\\users\\kiit\\appdata\\local\\programs\\python\\python37\\lib\\site-packages\\joblib\\parallel.py\u001b[0m in \u001b[0;36m__call__\u001b[1;34m(self, iterable)\u001b[0m\n\u001b[0;32m   1052\u001b[0m \u001b[1;33m\u001b[0m\u001b[0m\n\u001b[0;32m   1053\u001b[0m             \u001b[1;32mwith\u001b[0m \u001b[0mself\u001b[0m\u001b[1;33m.\u001b[0m\u001b[0m_backend\u001b[0m\u001b[1;33m.\u001b[0m\u001b[0mretrieval_context\u001b[0m\u001b[1;33m(\u001b[0m\u001b[1;33m)\u001b[0m\u001b[1;33m:\u001b[0m\u001b[1;33m\u001b[0m\u001b[1;33m\u001b[0m\u001b[0m\n\u001b[1;32m-> 1054\u001b[1;33m                 \u001b[0mself\u001b[0m\u001b[1;33m.\u001b[0m\u001b[0mretrieve\u001b[0m\u001b[1;33m(\u001b[0m\u001b[1;33m)\u001b[0m\u001b[1;33m\u001b[0m\u001b[1;33m\u001b[0m\u001b[0m\n\u001b[0m\u001b[0;32m   1055\u001b[0m             \u001b[1;31m# Make sure that we get a last message telling us we are done\u001b[0m\u001b[1;33m\u001b[0m\u001b[1;33m\u001b[0m\u001b[1;33m\u001b[0m\u001b[0m\n\u001b[0;32m   1056\u001b[0m             \u001b[0melapsed_time\u001b[0m \u001b[1;33m=\u001b[0m \u001b[0mtime\u001b[0m\u001b[1;33m.\u001b[0m\u001b[0mtime\u001b[0m\u001b[1;33m(\u001b[0m\u001b[1;33m)\u001b[0m \u001b[1;33m-\u001b[0m \u001b[0mself\u001b[0m\u001b[1;33m.\u001b[0m\u001b[0m_start_time\u001b[0m\u001b[1;33m\u001b[0m\u001b[1;33m\u001b[0m\u001b[0m\n",
      "\u001b[1;32mc:\\users\\kiit\\appdata\\local\\programs\\python\\python37\\lib\\site-packages\\joblib\\parallel.py\u001b[0m in \u001b[0;36mretrieve\u001b[1;34m(self)\u001b[0m\n\u001b[0;32m    931\u001b[0m             \u001b[1;32mtry\u001b[0m\u001b[1;33m:\u001b[0m\u001b[1;33m\u001b[0m\u001b[1;33m\u001b[0m\u001b[0m\n\u001b[0;32m    932\u001b[0m                 \u001b[1;32mif\u001b[0m \u001b[0mgetattr\u001b[0m\u001b[1;33m(\u001b[0m\u001b[0mself\u001b[0m\u001b[1;33m.\u001b[0m\u001b[0m_backend\u001b[0m\u001b[1;33m,\u001b[0m \u001b[1;34m'supports_timeout'\u001b[0m\u001b[1;33m,\u001b[0m \u001b[1;32mFalse\u001b[0m\u001b[1;33m)\u001b[0m\u001b[1;33m:\u001b[0m\u001b[1;33m\u001b[0m\u001b[1;33m\u001b[0m\u001b[0m\n\u001b[1;32m--> 933\u001b[1;33m                     \u001b[0mself\u001b[0m\u001b[1;33m.\u001b[0m\u001b[0m_output\u001b[0m\u001b[1;33m.\u001b[0m\u001b[0mextend\u001b[0m\u001b[1;33m(\u001b[0m\u001b[0mjob\u001b[0m\u001b[1;33m.\u001b[0m\u001b[0mget\u001b[0m\u001b[1;33m(\u001b[0m\u001b[0mtimeout\u001b[0m\u001b[1;33m=\u001b[0m\u001b[0mself\u001b[0m\u001b[1;33m.\u001b[0m\u001b[0mtimeout\u001b[0m\u001b[1;33m)\u001b[0m\u001b[1;33m)\u001b[0m\u001b[1;33m\u001b[0m\u001b[1;33m\u001b[0m\u001b[0m\n\u001b[0m\u001b[0;32m    934\u001b[0m                 \u001b[1;32melse\u001b[0m\u001b[1;33m:\u001b[0m\u001b[1;33m\u001b[0m\u001b[1;33m\u001b[0m\u001b[0m\n\u001b[0;32m    935\u001b[0m                     \u001b[0mself\u001b[0m\u001b[1;33m.\u001b[0m\u001b[0m_output\u001b[0m\u001b[1;33m.\u001b[0m\u001b[0mextend\u001b[0m\u001b[1;33m(\u001b[0m\u001b[0mjob\u001b[0m\u001b[1;33m.\u001b[0m\u001b[0mget\u001b[0m\u001b[1;33m(\u001b[0m\u001b[1;33m)\u001b[0m\u001b[1;33m)\u001b[0m\u001b[1;33m\u001b[0m\u001b[1;33m\u001b[0m\u001b[0m\n",
      "\u001b[1;32mc:\\users\\kiit\\appdata\\local\\programs\\python\\python37\\lib\\site-packages\\joblib\\_parallel_backends.py\u001b[0m in \u001b[0;36mwrap_future_result\u001b[1;34m(future, timeout)\u001b[0m\n\u001b[0;32m    540\u001b[0m         AsyncResults.get from multiprocessing.\"\"\"\n\u001b[0;32m    541\u001b[0m         \u001b[1;32mtry\u001b[0m\u001b[1;33m:\u001b[0m\u001b[1;33m\u001b[0m\u001b[1;33m\u001b[0m\u001b[0m\n\u001b[1;32m--> 542\u001b[1;33m             \u001b[1;32mreturn\u001b[0m \u001b[0mfuture\u001b[0m\u001b[1;33m.\u001b[0m\u001b[0mresult\u001b[0m\u001b[1;33m(\u001b[0m\u001b[0mtimeout\u001b[0m\u001b[1;33m=\u001b[0m\u001b[0mtimeout\u001b[0m\u001b[1;33m)\u001b[0m\u001b[1;33m\u001b[0m\u001b[1;33m\u001b[0m\u001b[0m\n\u001b[0m\u001b[0;32m    543\u001b[0m         \u001b[1;32mexcept\u001b[0m \u001b[0mCfTimeoutError\u001b[0m \u001b[1;32mas\u001b[0m \u001b[0me\u001b[0m\u001b[1;33m:\u001b[0m\u001b[1;33m\u001b[0m\u001b[1;33m\u001b[0m\u001b[0m\n\u001b[0;32m    544\u001b[0m             \u001b[1;32mraise\u001b[0m \u001b[0mTimeoutError\u001b[0m \u001b[1;32mfrom\u001b[0m \u001b[0me\u001b[0m\u001b[1;33m\u001b[0m\u001b[1;33m\u001b[0m\u001b[0m\n",
      "\u001b[1;32mc:\\users\\kiit\\appdata\\local\\programs\\python\\python37\\lib\\concurrent\\futures\\_base.py\u001b[0m in \u001b[0;36mresult\u001b[1;34m(self, timeout)\u001b[0m\n\u001b[0;32m    428\u001b[0m                 \u001b[1;32mreturn\u001b[0m \u001b[0mself\u001b[0m\u001b[1;33m.\u001b[0m\u001b[0m__get_result\u001b[0m\u001b[1;33m(\u001b[0m\u001b[1;33m)\u001b[0m\u001b[1;33m\u001b[0m\u001b[1;33m\u001b[0m\u001b[0m\n\u001b[0;32m    429\u001b[0m \u001b[1;33m\u001b[0m\u001b[0m\n\u001b[1;32m--> 430\u001b[1;33m             \u001b[0mself\u001b[0m\u001b[1;33m.\u001b[0m\u001b[0m_condition\u001b[0m\u001b[1;33m.\u001b[0m\u001b[0mwait\u001b[0m\u001b[1;33m(\u001b[0m\u001b[0mtimeout\u001b[0m\u001b[1;33m)\u001b[0m\u001b[1;33m\u001b[0m\u001b[1;33m\u001b[0m\u001b[0m\n\u001b[0m\u001b[0;32m    431\u001b[0m \u001b[1;33m\u001b[0m\u001b[0m\n\u001b[0;32m    432\u001b[0m             \u001b[1;32mif\u001b[0m \u001b[0mself\u001b[0m\u001b[1;33m.\u001b[0m\u001b[0m_state\u001b[0m \u001b[1;32min\u001b[0m \u001b[1;33m[\u001b[0m\u001b[0mCANCELLED\u001b[0m\u001b[1;33m,\u001b[0m \u001b[0mCANCELLED_AND_NOTIFIED\u001b[0m\u001b[1;33m]\u001b[0m\u001b[1;33m:\u001b[0m\u001b[1;33m\u001b[0m\u001b[1;33m\u001b[0m\u001b[0m\n",
      "\u001b[1;32mc:\\users\\kiit\\appdata\\local\\programs\\python\\python37\\lib\\threading.py\u001b[0m in \u001b[0;36mwait\u001b[1;34m(self, timeout)\u001b[0m\n\u001b[0;32m    294\u001b[0m         \u001b[1;32mtry\u001b[0m\u001b[1;33m:\u001b[0m    \u001b[1;31m# restore state no matter what (e.g., KeyboardInterrupt)\u001b[0m\u001b[1;33m\u001b[0m\u001b[1;33m\u001b[0m\u001b[0m\n\u001b[0;32m    295\u001b[0m             \u001b[1;32mif\u001b[0m \u001b[0mtimeout\u001b[0m \u001b[1;32mis\u001b[0m \u001b[1;32mNone\u001b[0m\u001b[1;33m:\u001b[0m\u001b[1;33m\u001b[0m\u001b[1;33m\u001b[0m\u001b[0m\n\u001b[1;32m--> 296\u001b[1;33m                 \u001b[0mwaiter\u001b[0m\u001b[1;33m.\u001b[0m\u001b[0macquire\u001b[0m\u001b[1;33m(\u001b[0m\u001b[1;33m)\u001b[0m\u001b[1;33m\u001b[0m\u001b[1;33m\u001b[0m\u001b[0m\n\u001b[0m\u001b[0;32m    297\u001b[0m                 \u001b[0mgotit\u001b[0m \u001b[1;33m=\u001b[0m \u001b[1;32mTrue\u001b[0m\u001b[1;33m\u001b[0m\u001b[1;33m\u001b[0m\u001b[0m\n\u001b[0;32m    298\u001b[0m             \u001b[1;32melse\u001b[0m\u001b[1;33m:\u001b[0m\u001b[1;33m\u001b[0m\u001b[1;33m\u001b[0m\u001b[0m\n",
      "\u001b[1;31mKeyboardInterrupt\u001b[0m: "
     ]
    }
   ],
   "source": [
    "reg_cv = RandomizedSearchCV(rfr, { 'max_depth': [8,10,15], 'n_estimators': [200,500,1000], }, verbose=1)\n",
    "reg_cv.fit(x_train,y_train)"
   ]
  },
  {
   "cell_type": "code",
   "execution_count": null,
   "metadata": {
    "colab": {
     "base_uri": "https://localhost:8080/"
    },
    "id": "ibbp91QpM0U0",
    "outputId": "f515e194-ffd7-485f-ccb1-7f2dad0a1e21"
   },
   "outputs": [],
   "source": [
    "reg_cv.best_params_"
   ]
  },
  {
   "cell_type": "code",
   "execution_count": 58,
   "metadata": {
    "colab": {
     "base_uri": "https://localhost:8080/"
    },
    "id": "BahT7RKlM-HR",
    "outputId": "a47e62f2-89e7-478c-963a-df1376770f7c"
   },
   "outputs": [
    {
     "name": "stderr",
     "output_type": "stream",
     "text": [
      "c:\\users\\kiit\\appdata\\local\\programs\\python\\python37\\lib\\site-packages\\ipykernel_launcher.py:2: DataConversionWarning: A column-vector y was passed when a 1d array was expected. Please change the shape of y to (n_samples,), for example using ravel().\n",
      "  \n"
     ]
    },
    {
     "data": {
      "text/plain": [
       "RandomForestRegressor(max_depth=8, n_estimators=500, n_jobs=-1)"
      ]
     },
     "execution_count": 58,
     "metadata": {},
     "output_type": "execute_result"
    }
   ],
   "source": [
    "regressor = RandomForestRegressor(**{'max_depth': 8, 'n_estimators': 500},n_jobs=-1)\n",
    "regressor.fit(x_train,y_train)"
   ]
  },
  {
   "cell_type": "code",
   "execution_count": 59,
   "metadata": {
    "colab": {
     "base_uri": "https://localhost:8080/"
    },
    "id": "MLOOKwhHQmvI",
    "outputId": "47b8029a-23af-479c-c0ad-cc1535879016"
   },
   "outputs": [
    {
     "data": {
      "text/plain": [
       "0.5196742375246991"
      ]
     },
     "execution_count": 59,
     "metadata": {},
     "output_type": "execute_result"
    }
   ],
   "source": [
    "regressor.score(X_test,y_test)"
   ]
  },
  {
   "cell_type": "code",
   "execution_count": 60,
   "metadata": {
    "id": "5wGeBrhB7CHF"
   },
   "outputs": [],
   "source": [
    "predictions = regressor.predict(X_test)"
   ]
  },
  {
   "cell_type": "markdown",
   "metadata": {},
   "source": [
    "# Conclusion"
   ]
  },
  {
   "cell_type": "code",
   "execution_count": 61,
   "metadata": {
    "colab": {
     "base_uri": "https://localhost:8080/"
    },
    "id": "yZrqMhVn7Bip",
    "outputId": "e09eede0-9857-405a-aae8-d7569bacd148"
   },
   "outputs": [
    {
     "name": "stdout",
     "output_type": "stream",
     "text": [
      "MAE: 3.104263741236089\n",
      "MSE: 45.693035679584156\n",
      "RMSE: 6.75966239390579\n"
     ]
    }
   ],
   "source": [
    "from sklearn import metrics\n",
    "print('MAE:', metrics.mean_absolute_error(y_test, predictions))\n",
    "print('MSE:', metrics.mean_squared_error(y_test, predictions))\n",
    "print('RMSE:', np.sqrt(metrics.mean_squared_error(y_test, predictions)))"
   ]
  },
  {
   "cell_type": "code",
   "execution_count": 62,
   "metadata": {},
   "outputs": [
    {
     "data": {
      "text/html": [
       "<div>\n",
       "<style scoped>\n",
       "    .dataframe tbody tr th:only-of-type {\n",
       "        vertical-align: middle;\n",
       "    }\n",
       "\n",
       "    .dataframe tbody tr th {\n",
       "        vertical-align: top;\n",
       "    }\n",
       "\n",
       "    .dataframe thead th {\n",
       "        text-align: right;\n",
       "    }\n",
       "</style>\n",
       "<table border=\"1\" class=\"dataframe\">\n",
       "  <thead>\n",
       "    <tr style=\"text-align: right;\">\n",
       "      <th></th>\n",
       "      <th>index</th>\n",
       "      <th>business_code</th>\n",
       "      <th>cust_number</th>\n",
       "      <th>name_customer</th>\n",
       "      <th>clear_date</th>\n",
       "      <th>posting_date</th>\n",
       "      <th>document_create_date</th>\n",
       "      <th>document_create_date.1</th>\n",
       "      <th>due_in_date</th>\n",
       "      <th>invoice_currency</th>\n",
       "      <th>document type</th>\n",
       "      <th>total_open_amount</th>\n",
       "      <th>baseline_create_date</th>\n",
       "      <th>cust_payment_terms</th>\n",
       "      <th>delay</th>\n",
       "      <th>due_week</th>\n",
       "      <th>baseline_month</th>\n",
       "      <th>baseline_day</th>\n",
       "      <th>due_baseline</th>\n",
       "      <th>mean_delay</th>\n",
       "    </tr>\n",
       "  </thead>\n",
       "  <tbody>\n",
       "    <tr>\n",
       "      <th>0</th>\n",
       "      <td>33943</td>\n",
       "      <td>1.0</td>\n",
       "      <td>0200769623</td>\n",
       "      <td>WAL-MAR us</td>\n",
       "      <td>2019-01-09</td>\n",
       "      <td>2018-12-30</td>\n",
       "      <td>2018-12-29</td>\n",
       "      <td>2018-12-30</td>\n",
       "      <td>2019-01-14</td>\n",
       "      <td>1</td>\n",
       "      <td>RV</td>\n",
       "      <td>15802.32</td>\n",
       "      <td>2018-12-30</td>\n",
       "      <td>500</td>\n",
       "      <td>-5</td>\n",
       "      <td>3</td>\n",
       "      <td>12</td>\n",
       "      <td>30</td>\n",
       "      <td>15</td>\n",
       "      <td>-2.226421</td>\n",
       "    </tr>\n",
       "    <tr>\n",
       "      <th>1</th>\n",
       "      <td>13647</td>\n",
       "      <td>1.0</td>\n",
       "      <td>0200726979</td>\n",
       "      <td>BJ'S</td>\n",
       "      <td>2019-01-15</td>\n",
       "      <td>2018-12-30</td>\n",
       "      <td>2018-12-29</td>\n",
       "      <td>2018-12-30</td>\n",
       "      <td>2019-01-14</td>\n",
       "      <td>1</td>\n",
       "      <td>RV</td>\n",
       "      <td>553.42</td>\n",
       "      <td>2018-12-30</td>\n",
       "      <td>500</td>\n",
       "      <td>1</td>\n",
       "      <td>3</td>\n",
       "      <td>12</td>\n",
       "      <td>30</td>\n",
       "      <td>15</td>\n",
       "      <td>0.902579</td>\n",
       "    </tr>\n",
       "    <tr>\n",
       "      <th>2</th>\n",
       "      <td>32522</td>\n",
       "      <td>1.0</td>\n",
       "      <td>0200769623</td>\n",
       "      <td>WAL-MAR co</td>\n",
       "      <td>2019-01-09</td>\n",
       "      <td>2018-12-30</td>\n",
       "      <td>2018-12-29</td>\n",
       "      <td>2018-12-30</td>\n",
       "      <td>2019-01-14</td>\n",
       "      <td>1</td>\n",
       "      <td>RV</td>\n",
       "      <td>1445.64</td>\n",
       "      <td>2018-12-30</td>\n",
       "      <td>500</td>\n",
       "      <td>-5</td>\n",
       "      <td>3</td>\n",
       "      <td>12</td>\n",
       "      <td>30</td>\n",
       "      <td>15</td>\n",
       "      <td>-2.226421</td>\n",
       "    </tr>\n",
       "    <tr>\n",
       "      <th>3</th>\n",
       "      <td>9300</td>\n",
       "      <td>1.0</td>\n",
       "      <td>0200726979</td>\n",
       "      <td>BJ'S  us</td>\n",
       "      <td>2019-01-15</td>\n",
       "      <td>2018-12-30</td>\n",
       "      <td>2018-12-29</td>\n",
       "      <td>2018-12-30</td>\n",
       "      <td>2019-01-14</td>\n",
       "      <td>1</td>\n",
       "      <td>RV</td>\n",
       "      <td>59.80</td>\n",
       "      <td>2018-12-30</td>\n",
       "      <td>500</td>\n",
       "      <td>1</td>\n",
       "      <td>3</td>\n",
       "      <td>12</td>\n",
       "      <td>30</td>\n",
       "      <td>15</td>\n",
       "      <td>0.902579</td>\n",
       "    </tr>\n",
       "    <tr>\n",
       "      <th>4</th>\n",
       "      <td>13462</td>\n",
       "      <td>1.0</td>\n",
       "      <td>0200772670</td>\n",
       "      <td>ASSOCIAT corp</td>\n",
       "      <td>2019-01-14</td>\n",
       "      <td>2018-12-30</td>\n",
       "      <td>2018-12-30</td>\n",
       "      <td>2018-12-30</td>\n",
       "      <td>2019-01-14</td>\n",
       "      <td>1</td>\n",
       "      <td>RV</td>\n",
       "      <td>70864.07</td>\n",
       "      <td>2018-12-30</td>\n",
       "      <td>500</td>\n",
       "      <td>0</td>\n",
       "      <td>3</td>\n",
       "      <td>12</td>\n",
       "      <td>30</td>\n",
       "      <td>15</td>\n",
       "      <td>1.371080</td>\n",
       "    </tr>\n",
       "    <tr>\n",
       "      <th>...</th>\n",
       "      <td>...</td>\n",
       "      <td>...</td>\n",
       "      <td>...</td>\n",
       "      <td>...</td>\n",
       "      <td>...</td>\n",
       "      <td>...</td>\n",
       "      <td>...</td>\n",
       "      <td>...</td>\n",
       "      <td>...</td>\n",
       "      <td>...</td>\n",
       "      <td>...</td>\n",
       "      <td>...</td>\n",
       "      <td>...</td>\n",
       "      <td>...</td>\n",
       "      <td>...</td>\n",
       "      <td>...</td>\n",
       "      <td>...</td>\n",
       "      <td>...</td>\n",
       "      <td>...</td>\n",
       "      <td>...</td>\n",
       "    </tr>\n",
       "    <tr>\n",
       "      <th>30664</th>\n",
       "      <td>44774</td>\n",
       "      <td>1.0</td>\n",
       "      <td>0200726979</td>\n",
       "      <td>BJ'S</td>\n",
       "      <td>2019-10-15</td>\n",
       "      <td>2019-09-30</td>\n",
       "      <td>2019-09-29</td>\n",
       "      <td>2019-09-30</td>\n",
       "      <td>2019-10-15</td>\n",
       "      <td>1</td>\n",
       "      <td>RV</td>\n",
       "      <td>63.33</td>\n",
       "      <td>2019-09-30</td>\n",
       "      <td>500</td>\n",
       "      <td>0</td>\n",
       "      <td>42</td>\n",
       "      <td>9</td>\n",
       "      <td>30</td>\n",
       "      <td>15</td>\n",
       "      <td>0.902579</td>\n",
       "    </tr>\n",
       "    <tr>\n",
       "      <th>30665</th>\n",
       "      <td>1387</td>\n",
       "      <td>1.0</td>\n",
       "      <td>0200781803</td>\n",
       "      <td>JRD us</td>\n",
       "      <td>2019-10-21</td>\n",
       "      <td>2019-09-30</td>\n",
       "      <td>2019-09-30</td>\n",
       "      <td>2019-09-30</td>\n",
       "      <td>2019-10-20</td>\n",
       "      <td>1</td>\n",
       "      <td>RV</td>\n",
       "      <td>1764.84</td>\n",
       "      <td>2019-09-30</td>\n",
       "      <td>500</td>\n",
       "      <td>1</td>\n",
       "      <td>42</td>\n",
       "      <td>9</td>\n",
       "      <td>30</td>\n",
       "      <td>20</td>\n",
       "      <td>0.605042</td>\n",
       "    </tr>\n",
       "    <tr>\n",
       "      <th>30666</th>\n",
       "      <td>36578</td>\n",
       "      <td>1.0</td>\n",
       "      <td>0200769623</td>\n",
       "      <td>WAL-MAR foundation</td>\n",
       "      <td>2019-10-11</td>\n",
       "      <td>2019-09-30</td>\n",
       "      <td>2019-09-29</td>\n",
       "      <td>2019-09-30</td>\n",
       "      <td>2019-10-15</td>\n",
       "      <td>1</td>\n",
       "      <td>RV</td>\n",
       "      <td>1651.98</td>\n",
       "      <td>2019-09-30</td>\n",
       "      <td>500</td>\n",
       "      <td>-4</td>\n",
       "      <td>42</td>\n",
       "      <td>9</td>\n",
       "      <td>30</td>\n",
       "      <td>15</td>\n",
       "      <td>-2.226421</td>\n",
       "    </tr>\n",
       "    <tr>\n",
       "      <th>30667</th>\n",
       "      <td>16364</td>\n",
       "      <td>0.0</td>\n",
       "      <td>0140104440</td>\n",
       "      <td>SO corporation</td>\n",
       "      <td>2019-10-15</td>\n",
       "      <td>2019-09-22</td>\n",
       "      <td>2019-09-22</td>\n",
       "      <td>2019-09-22</td>\n",
       "      <td>2019-10-10</td>\n",
       "      <td>0</td>\n",
       "      <td>RV</td>\n",
       "      <td>161796.71</td>\n",
       "      <td>2019-09-30</td>\n",
       "      <td>500</td>\n",
       "      <td>5</td>\n",
       "      <td>41</td>\n",
       "      <td>9</td>\n",
       "      <td>30</td>\n",
       "      <td>10</td>\n",
       "      <td>5.948276</td>\n",
       "    </tr>\n",
       "    <tr>\n",
       "      <th>30668</th>\n",
       "      <td>26374</td>\n",
       "      <td>1.0</td>\n",
       "      <td>0200739534</td>\n",
       "      <td>OK trust</td>\n",
       "      <td>2019-10-18</td>\n",
       "      <td>2019-09-30</td>\n",
       "      <td>2019-09-30</td>\n",
       "      <td>2019-09-30</td>\n",
       "      <td>2019-10-15</td>\n",
       "      <td>1</td>\n",
       "      <td>RV</td>\n",
       "      <td>23255.54</td>\n",
       "      <td>2019-09-30</td>\n",
       "      <td>500</td>\n",
       "      <td>3</td>\n",
       "      <td>42</td>\n",
       "      <td>9</td>\n",
       "      <td>30</td>\n",
       "      <td>15</td>\n",
       "      <td>0.894309</td>\n",
       "    </tr>\n",
       "  </tbody>\n",
       "</table>\n",
       "<p>30669 rows × 20 columns</p>\n",
       "</div>"
      ],
      "text/plain": [
       "       index  business_code cust_number       name_customer clear_date  \\\n",
       "0      33943            1.0  0200769623          WAL-MAR us 2019-01-09   \n",
       "1      13647            1.0  0200726979              BJ'S   2019-01-15   \n",
       "2      32522            1.0  0200769623          WAL-MAR co 2019-01-09   \n",
       "3       9300            1.0  0200726979            BJ'S  us 2019-01-15   \n",
       "4      13462            1.0  0200772670       ASSOCIAT corp 2019-01-14   \n",
       "...      ...            ...         ...                 ...        ...   \n",
       "30664  44774            1.0  0200726979              BJ'S   2019-10-15   \n",
       "30665   1387            1.0  0200781803              JRD us 2019-10-21   \n",
       "30666  36578            1.0  0200769623  WAL-MAR foundation 2019-10-11   \n",
       "30667  16364            0.0  0140104440      SO corporation 2019-10-15   \n",
       "30668  26374            1.0  0200739534            OK trust 2019-10-18   \n",
       "\n",
       "      posting_date document_create_date document_create_date.1 due_in_date  \\\n",
       "0       2018-12-30           2018-12-29             2018-12-30  2019-01-14   \n",
       "1       2018-12-30           2018-12-29             2018-12-30  2019-01-14   \n",
       "2       2018-12-30           2018-12-29             2018-12-30  2019-01-14   \n",
       "3       2018-12-30           2018-12-29             2018-12-30  2019-01-14   \n",
       "4       2018-12-30           2018-12-30             2018-12-30  2019-01-14   \n",
       "...            ...                  ...                    ...         ...   \n",
       "30664   2019-09-30           2019-09-29             2019-09-30  2019-10-15   \n",
       "30665   2019-09-30           2019-09-30             2019-09-30  2019-10-20   \n",
       "30666   2019-09-30           2019-09-29             2019-09-30  2019-10-15   \n",
       "30667   2019-09-22           2019-09-22             2019-09-22  2019-10-10   \n",
       "30668   2019-09-30           2019-09-30             2019-09-30  2019-10-15   \n",
       "\n",
       "       invoice_currency document type  total_open_amount baseline_create_date  \\\n",
       "0                     1            RV           15802.32           2018-12-30   \n",
       "1                     1            RV             553.42           2018-12-30   \n",
       "2                     1            RV            1445.64           2018-12-30   \n",
       "3                     1            RV              59.80           2018-12-30   \n",
       "4                     1            RV           70864.07           2018-12-30   \n",
       "...                 ...           ...                ...                  ...   \n",
       "30664                 1            RV              63.33           2019-09-30   \n",
       "30665                 1            RV            1764.84           2019-09-30   \n",
       "30666                 1            RV            1651.98           2019-09-30   \n",
       "30667                 0            RV          161796.71           2019-09-30   \n",
       "30668                 1            RV           23255.54           2019-09-30   \n",
       "\n",
       "       cust_payment_terms  delay  due_week  baseline_month  baseline_day  \\\n",
       "0                     500     -5         3              12            30   \n",
       "1                     500      1         3              12            30   \n",
       "2                     500     -5         3              12            30   \n",
       "3                     500      1         3              12            30   \n",
       "4                     500      0         3              12            30   \n",
       "...                   ...    ...       ...             ...           ...   \n",
       "30664                 500      0        42               9            30   \n",
       "30665                 500      1        42               9            30   \n",
       "30666                 500     -4        42               9            30   \n",
       "30667                 500      5        41               9            30   \n",
       "30668                 500      3        42               9            30   \n",
       "\n",
       "       due_baseline  mean_delay  \n",
       "0                15   -2.226421  \n",
       "1                15    0.902579  \n",
       "2                15   -2.226421  \n",
       "3                15    0.902579  \n",
       "4                15    1.371080  \n",
       "...             ...         ...  \n",
       "30664            15    0.902579  \n",
       "30665            20    0.605042  \n",
       "30666            15   -2.226421  \n",
       "30667            10    5.948276  \n",
       "30668            15    0.894309  \n",
       "\n",
       "[30669 rows x 20 columns]"
      ]
     },
     "execution_count": 62,
     "metadata": {},
     "output_type": "execute_result"
    }
   ],
   "source": [
    "train\n"
   ]
  },
  {
   "cell_type": "code",
   "execution_count": 63,
   "metadata": {},
   "outputs": [
    {
     "data": {
      "text/html": [
       "<div>\n",
       "<style scoped>\n",
       "    .dataframe tbody tr th:only-of-type {\n",
       "        vertical-align: middle;\n",
       "    }\n",
       "\n",
       "    .dataframe tbody tr th {\n",
       "        vertical-align: top;\n",
       "    }\n",
       "\n",
       "    .dataframe thead th {\n",
       "        text-align: right;\n",
       "    }\n",
       "</style>\n",
       "<table border=\"1\" class=\"dataframe\">\n",
       "  <thead>\n",
       "    <tr style=\"text-align: right;\">\n",
       "      <th></th>\n",
       "      <th>index</th>\n",
       "      <th>business_code</th>\n",
       "      <th>cust_number</th>\n",
       "      <th>name_customer</th>\n",
       "      <th>clear_date</th>\n",
       "      <th>buisness_year</th>\n",
       "      <th>doc_id</th>\n",
       "      <th>posting_date</th>\n",
       "      <th>document_create_date</th>\n",
       "      <th>document_create_date.1</th>\n",
       "      <th>...</th>\n",
       "      <th>baseline_create_date</th>\n",
       "      <th>cust_payment_terms</th>\n",
       "      <th>invoice_id</th>\n",
       "      <th>isOpen</th>\n",
       "      <th>delay</th>\n",
       "      <th>due_week</th>\n",
       "      <th>baseline_month</th>\n",
       "      <th>baseline_day</th>\n",
       "      <th>due_baseline</th>\n",
       "      <th>mean_delay</th>\n",
       "    </tr>\n",
       "  </thead>\n",
       "  <tbody>\n",
       "    <tr>\n",
       "      <th>0</th>\n",
       "      <td>19867</td>\n",
       "      <td>1.0</td>\n",
       "      <td>0200936373</td>\n",
       "      <td>SUPE foundation</td>\n",
       "      <td>2019-10-16</td>\n",
       "      <td>2019</td>\n",
       "      <td>1.929945e+09</td>\n",
       "      <td>2019-10-01</td>\n",
       "      <td>2019-10-01</td>\n",
       "      <td>2019-10-01</td>\n",
       "      <td>...</td>\n",
       "      <td>2019-10-01</td>\n",
       "      <td>500</td>\n",
       "      <td>1.929945e+09</td>\n",
       "      <td>0</td>\n",
       "      <td>0</td>\n",
       "      <td>42</td>\n",
       "      <td>10</td>\n",
       "      <td>1</td>\n",
       "      <td>15</td>\n",
       "      <td>1.444934</td>\n",
       "    </tr>\n",
       "    <tr>\n",
       "      <th>1</th>\n",
       "      <td>5656</td>\n",
       "      <td>1.0</td>\n",
       "      <td>0200743129</td>\n",
       "      <td>BROOKS us</td>\n",
       "      <td>2019-10-16</td>\n",
       "      <td>2019</td>\n",
       "      <td>1.929941e+09</td>\n",
       "      <td>2019-10-01</td>\n",
       "      <td>2019-09-30</td>\n",
       "      <td>2019-10-01</td>\n",
       "      <td>...</td>\n",
       "      <td>2019-10-01</td>\n",
       "      <td>500</td>\n",
       "      <td>1.929941e+09</td>\n",
       "      <td>0</td>\n",
       "      <td>0</td>\n",
       "      <td>42</td>\n",
       "      <td>10</td>\n",
       "      <td>1</td>\n",
       "      <td>15</td>\n",
       "      <td>-4.173077</td>\n",
       "    </tr>\n",
       "    <tr>\n",
       "      <th>2</th>\n",
       "      <td>42053</td>\n",
       "      <td>1.0</td>\n",
       "      <td>0200756072</td>\n",
       "      <td>REINHA co</td>\n",
       "      <td>2019-10-18</td>\n",
       "      <td>2019</td>\n",
       "      <td>1.929946e+09</td>\n",
       "      <td>2019-10-01</td>\n",
       "      <td>2019-10-01</td>\n",
       "      <td>2019-10-01</td>\n",
       "      <td>...</td>\n",
       "      <td>2019-10-01</td>\n",
       "      <td>500</td>\n",
       "      <td>1.929946e+09</td>\n",
       "      <td>0</td>\n",
       "      <td>2</td>\n",
       "      <td>42</td>\n",
       "      <td>10</td>\n",
       "      <td>1</td>\n",
       "      <td>15</td>\n",
       "      <td>1.776316</td>\n",
       "    </tr>\n",
       "    <tr>\n",
       "      <th>3</th>\n",
       "      <td>37459</td>\n",
       "      <td>1.0</td>\n",
       "      <td>0200803720</td>\n",
       "      <td>DEC us</td>\n",
       "      <td>2019-10-10</td>\n",
       "      <td>2019</td>\n",
       "      <td>1.929982e+09</td>\n",
       "      <td>2019-10-08</td>\n",
       "      <td>2019-10-08</td>\n",
       "      <td>2019-10-08</td>\n",
       "      <td>...</td>\n",
       "      <td>2019-10-01</td>\n",
       "      <td>500</td>\n",
       "      <td>1.929982e+09</td>\n",
       "      <td>0</td>\n",
       "      <td>-1</td>\n",
       "      <td>41</td>\n",
       "      <td>10</td>\n",
       "      <td>1</td>\n",
       "      <td>10</td>\n",
       "      <td>-4.281938</td>\n",
       "    </tr>\n",
       "    <tr>\n",
       "      <th>4</th>\n",
       "      <td>35910</td>\n",
       "      <td>1.0</td>\n",
       "      <td>0200020431</td>\n",
       "      <td>DEC foundation</td>\n",
       "      <td>2019-10-10</td>\n",
       "      <td>2019</td>\n",
       "      <td>1.929964e+09</td>\n",
       "      <td>2019-10-04</td>\n",
       "      <td>2019-10-04</td>\n",
       "      <td>2019-10-04</td>\n",
       "      <td>...</td>\n",
       "      <td>2019-10-01</td>\n",
       "      <td>500</td>\n",
       "      <td>1.929964e+09</td>\n",
       "      <td>0</td>\n",
       "      <td>-1</td>\n",
       "      <td>41</td>\n",
       "      <td>10</td>\n",
       "      <td>1</td>\n",
       "      <td>10</td>\n",
       "      <td>-4.637838</td>\n",
       "    </tr>\n",
       "    <tr>\n",
       "      <th>...</th>\n",
       "      <td>...</td>\n",
       "      <td>...</td>\n",
       "      <td>...</td>\n",
       "      <td>...</td>\n",
       "      <td>...</td>\n",
       "      <td>...</td>\n",
       "      <td>...</td>\n",
       "      <td>...</td>\n",
       "      <td>...</td>\n",
       "      <td>...</td>\n",
       "      <td>...</td>\n",
       "      <td>...</td>\n",
       "      <td>...</td>\n",
       "      <td>...</td>\n",
       "      <td>...</td>\n",
       "      <td>...</td>\n",
       "      <td>...</td>\n",
       "      <td>...</td>\n",
       "      <td>...</td>\n",
       "      <td>...</td>\n",
       "      <td>...</td>\n",
       "    </tr>\n",
       "    <tr>\n",
       "      <th>14327</th>\n",
       "      <td>28772</td>\n",
       "      <td>0.0</td>\n",
       "      <td>0140104249</td>\n",
       "      <td>SOB corporation</td>\n",
       "      <td>2020-03-23</td>\n",
       "      <td>2020</td>\n",
       "      <td>2.960616e+09</td>\n",
       "      <td>2020-02-26</td>\n",
       "      <td>2020-02-26</td>\n",
       "      <td>2020-02-26</td>\n",
       "      <td>...</td>\n",
       "      <td>2020-03-04</td>\n",
       "      <td>500</td>\n",
       "      <td>2.960616e+09</td>\n",
       "      <td>0</td>\n",
       "      <td>9</td>\n",
       "      <td>11</td>\n",
       "      <td>3</td>\n",
       "      <td>4</td>\n",
       "      <td>10</td>\n",
       "      <td>6.926829</td>\n",
       "    </tr>\n",
       "    <tr>\n",
       "      <th>14328</th>\n",
       "      <td>27619</td>\n",
       "      <td>0.0</td>\n",
       "      <td>0140104331</td>\n",
       "      <td>CORE-M llc</td>\n",
       "      <td>2020-03-05</td>\n",
       "      <td>2020</td>\n",
       "      <td>2.960616e+09</td>\n",
       "      <td>2020-02-24</td>\n",
       "      <td>2020-02-24</td>\n",
       "      <td>2020-02-24</td>\n",
       "      <td>...</td>\n",
       "      <td>2020-03-04</td>\n",
       "      <td>500</td>\n",
       "      <td>2.960616e+09</td>\n",
       "      <td>0</td>\n",
       "      <td>-9</td>\n",
       "      <td>11</td>\n",
       "      <td>3</td>\n",
       "      <td>4</td>\n",
       "      <td>10</td>\n",
       "      <td>-5.600000</td>\n",
       "    </tr>\n",
       "    <tr>\n",
       "      <th>14329</th>\n",
       "      <td>2517</td>\n",
       "      <td>0.0</td>\n",
       "      <td>0140106408</td>\n",
       "      <td>WAL-M llc</td>\n",
       "      <td>2020-03-20</td>\n",
       "      <td>2020</td>\n",
       "      <td>2.960617e+09</td>\n",
       "      <td>2020-02-26</td>\n",
       "      <td>2020-02-27</td>\n",
       "      <td>2020-02-26</td>\n",
       "      <td>...</td>\n",
       "      <td>2020-03-05</td>\n",
       "      <td>500</td>\n",
       "      <td>2.960617e+09</td>\n",
       "      <td>0</td>\n",
       "      <td>5</td>\n",
       "      <td>11</td>\n",
       "      <td>3</td>\n",
       "      <td>5</td>\n",
       "      <td>10</td>\n",
       "      <td>9.611111</td>\n",
       "    </tr>\n",
       "    <tr>\n",
       "      <th>14330</th>\n",
       "      <td>29586</td>\n",
       "      <td>0.0</td>\n",
       "      <td>0140105686</td>\n",
       "      <td>SYSC</td>\n",
       "      <td>2020-03-23</td>\n",
       "      <td>2020</td>\n",
       "      <td>2.960617e+09</td>\n",
       "      <td>2020-02-26</td>\n",
       "      <td>2020-02-26</td>\n",
       "      <td>2020-02-26</td>\n",
       "      <td>...</td>\n",
       "      <td>2020-03-06</td>\n",
       "      <td>500</td>\n",
       "      <td>2.960617e+09</td>\n",
       "      <td>0</td>\n",
       "      <td>7</td>\n",
       "      <td>12</td>\n",
       "      <td>3</td>\n",
       "      <td>6</td>\n",
       "      <td>10</td>\n",
       "      <td>5.491892</td>\n",
       "    </tr>\n",
       "    <tr>\n",
       "      <th>14331</th>\n",
       "      <td>24386</td>\n",
       "      <td>0.0</td>\n",
       "      <td>0140104409</td>\n",
       "      <td>LOB associates</td>\n",
       "      <td>2020-03-16</td>\n",
       "      <td>2020</td>\n",
       "      <td>2.960617e+09</td>\n",
       "      <td>2020-02-26</td>\n",
       "      <td>2020-02-26</td>\n",
       "      <td>2020-02-26</td>\n",
       "      <td>...</td>\n",
       "      <td>2020-03-06</td>\n",
       "      <td>500</td>\n",
       "      <td>2.960617e+09</td>\n",
       "      <td>0</td>\n",
       "      <td>0</td>\n",
       "      <td>12</td>\n",
       "      <td>3</td>\n",
       "      <td>6</td>\n",
       "      <td>10</td>\n",
       "      <td>2.528571</td>\n",
       "    </tr>\n",
       "  </tbody>\n",
       "</table>\n",
       "<p>14332 rows × 26 columns</p>\n",
       "</div>"
      ],
      "text/plain": [
       "       index  business_code cust_number    name_customer clear_date  \\\n",
       "0      19867            1.0  0200936373  SUPE foundation 2019-10-16   \n",
       "1       5656            1.0  0200743129        BROOKS us 2019-10-16   \n",
       "2      42053            1.0  0200756072        REINHA co 2019-10-18   \n",
       "3      37459            1.0  0200803720           DEC us 2019-10-10   \n",
       "4      35910            1.0  0200020431   DEC foundation 2019-10-10   \n",
       "...      ...            ...         ...              ...        ...   \n",
       "14327  28772            0.0  0140104249  SOB corporation 2020-03-23   \n",
       "14328  27619            0.0  0140104331       CORE-M llc 2020-03-05   \n",
       "14329   2517            0.0  0140106408        WAL-M llc 2020-03-20   \n",
       "14330  29586            0.0  0140105686            SYSC  2020-03-23   \n",
       "14331  24386            0.0  0140104409   LOB associates 2020-03-16   \n",
       "\n",
       "       buisness_year        doc_id posting_date document_create_date  \\\n",
       "0               2019  1.929945e+09   2019-10-01           2019-10-01   \n",
       "1               2019  1.929941e+09   2019-10-01           2019-09-30   \n",
       "2               2019  1.929946e+09   2019-10-01           2019-10-01   \n",
       "3               2019  1.929982e+09   2019-10-08           2019-10-08   \n",
       "4               2019  1.929964e+09   2019-10-04           2019-10-04   \n",
       "...              ...           ...          ...                  ...   \n",
       "14327           2020  2.960616e+09   2020-02-26           2020-02-26   \n",
       "14328           2020  2.960616e+09   2020-02-24           2020-02-24   \n",
       "14329           2020  2.960617e+09   2020-02-26           2020-02-27   \n",
       "14330           2020  2.960617e+09   2020-02-26           2020-02-26   \n",
       "14331           2020  2.960617e+09   2020-02-26           2020-02-26   \n",
       "\n",
       "      document_create_date.1  ... baseline_create_date  cust_payment_terms  \\\n",
       "0                 2019-10-01  ...           2019-10-01                 500   \n",
       "1                 2019-10-01  ...           2019-10-01                 500   \n",
       "2                 2019-10-01  ...           2019-10-01                 500   \n",
       "3                 2019-10-08  ...           2019-10-01                 500   \n",
       "4                 2019-10-04  ...           2019-10-01                 500   \n",
       "...                      ...  ...                  ...                 ...   \n",
       "14327             2020-02-26  ...           2020-03-04                 500   \n",
       "14328             2020-02-24  ...           2020-03-04                 500   \n",
       "14329             2020-02-26  ...           2020-03-05                 500   \n",
       "14330             2020-02-26  ...           2020-03-06                 500   \n",
       "14331             2020-02-26  ...           2020-03-06                 500   \n",
       "\n",
       "         invoice_id  isOpen  delay  due_week baseline_month  baseline_day  \\\n",
       "0      1.929945e+09       0      0        42             10             1   \n",
       "1      1.929941e+09       0      0        42             10             1   \n",
       "2      1.929946e+09       0      2        42             10             1   \n",
       "3      1.929982e+09       0     -1        41             10             1   \n",
       "4      1.929964e+09       0     -1        41             10             1   \n",
       "...             ...     ...    ...       ...            ...           ...   \n",
       "14327  2.960616e+09       0      9        11              3             4   \n",
       "14328  2.960616e+09       0     -9        11              3             4   \n",
       "14329  2.960617e+09       0      5        11              3             5   \n",
       "14330  2.960617e+09       0      7        12              3             6   \n",
       "14331  2.960617e+09       0      0        12              3             6   \n",
       "\n",
       "       due_baseline  mean_delay  \n",
       "0                15    1.444934  \n",
       "1                15   -4.173077  \n",
       "2                15    1.776316  \n",
       "3                10   -4.281938  \n",
       "4                10   -4.637838  \n",
       "...             ...         ...  \n",
       "14327            10    6.926829  \n",
       "14328            10   -5.600000  \n",
       "14329            10    9.611111  \n",
       "14330            10    5.491892  \n",
       "14331            10    2.528571  \n",
       "\n",
       "[14332 rows x 26 columns]"
      ]
     },
     "execution_count": 63,
     "metadata": {},
     "output_type": "execute_result"
    }
   ],
   "source": [
    "test"
   ]
  },
  {
   "cell_type": "markdown",
   "metadata": {
    "id": "PV6Ndd1g16K4"
   },
   "source": [
    "# Predicting on unknown data"
   ]
  },
  {
   "cell_type": "code",
   "execution_count": 64,
   "metadata": {
    "colab": {
     "base_uri": "https://localhost:8080/"
    },
    "id": "kMGucrwQ18_E",
    "outputId": "bc08c692-2356-4cec-97c3-d08b5fd949e5"
   },
   "outputs": [
    {
     "name": "stdout",
     "output_type": "stream",
     "text": [
      "<class 'pandas.core.frame.DataFrame'>\n",
      "Int64Index: 4999 entries, 45001 to 49999\n",
      "Data columns (total 19 columns):\n",
      " #   Column                  Non-Null Count  Dtype         \n",
      "---  ------                  --------------  -----         \n",
      " 0   business_code           4999 non-null   object        \n",
      " 1   cust_number             4999 non-null   object        \n",
      " 2   name_customer           4999 non-null   object        \n",
      " 3   clear_date              0 non-null      datetime64[ns]\n",
      " 4   buisness_year           4999 non-null   int64         \n",
      " 5   doc_id                  4999 non-null   float64       \n",
      " 6   posting_date            4999 non-null   datetime64[ns]\n",
      " 7   document_create_date    4999 non-null   datetime64[ns]\n",
      " 8   document_create_date.1  4999 non-null   datetime64[ns]\n",
      " 9   due_in_date             4999 non-null   datetime64[ns]\n",
      " 10  invoice_currency        4999 non-null   object        \n",
      " 11  document type           4999 non-null   object        \n",
      " 12  posting_id              4999 non-null   float64       \n",
      " 13  area_business           0 non-null      float64       \n",
      " 14  total_open_amount       4999 non-null   float64       \n",
      " 15  baseline_create_date    4999 non-null   datetime64[ns]\n",
      " 16  cust_payment_terms      4999 non-null   object        \n",
      " 17  invoice_id              4999 non-null   float64       \n",
      " 18  isOpen                  4999 non-null   int64         \n",
      "dtypes: datetime64[ns](6), float64(5), int64(2), object(6)\n",
      "memory usage: 781.1+ KB\n"
     ]
    }
   ],
   "source": [
    "open_invoice_df.info() # This was the null data that was removed above."
   ]
  },
  {
   "cell_type": "code",
   "execution_count": 65,
   "metadata": {
    "id": "MPFTVhYF2BTW"
   },
   "outputs": [],
   "source": [
    "open_invoice_df.loc[::,[\"document_create_date_int\"]] = open_invoice_df[\"document_create_date.1\"]\n",
    "open_invoice_df.loc[::,[\"baseline_create_date_int\"]] = open_invoice_df[\"baseline_create_date\"]\n",
    "open_invoice_df.loc[::,[\"due_in_date_int\"]] = open_invoice_df[\"due_in_date\"]\n",
    "open_invoice_df.loc[::,['document_create_date','document_create_date.1','due_in_date','baseline_create_date']]=open_invoice_df.loc[::,['document_create_date','document_create_date.1','due_in_date','baseline_create_date']].apply(pd.to_datetime,format='%Y%m%d')\n",
    "open_invoice_df.loc[::,['clear_date','posting_date']]=open_invoice_df.loc[::,['clear_date','posting_date']].apply(pd.to_datetime)\n",
    "open_invoice_df[\"buisness_year\"]=pd.to_datetime(open_invoice_df[\"buisness_year\"],format='%Y').dt.year"
   ]
  },
  {
   "cell_type": "code",
   "execution_count": 66,
   "metadata": {
    "colab": {
     "base_uri": "https://localhost:8080/",
     "height": 183
    },
    "id": "8erfK98v20W1",
    "outputId": "a91ea83c-0a76-4ce0-83b7-404d8c81106c"
   },
   "outputs": [
    {
     "name": "stderr",
     "output_type": "stream",
     "text": [
      "c:\\users\\kiit\\appdata\\local\\programs\\python\\python37\\lib\\site-packages\\sklearn\\utils\\validation.py:63: DataConversionWarning: A column-vector y was passed when a 1d array was expected. Please change the shape of y to (n_samples, ), for example using ravel().\n",
      "  return f(*args, **kwargs)\n"
     ]
    }
   ],
   "source": [
    "open_invoice_df['business_code']=businessOrdinalEncoder.transform(open_invoice_df[['business_code']])\n",
    "open_invoice_df['invoice_currency'] = currencyLabelEncoder.transform(open_invoice_df[[\"invoice_currency\"]])"
   ]
  },
  {
   "cell_type": "code",
   "execution_count": 67,
   "metadata": {},
   "outputs": [],
   "source": [
    "open_invoice_df[\"baseline_month\"] = open_invoice_df[\"baseline_create_date\"].dt.month\n",
    "open_invoice_df[\"baseline_day\"] = open_invoice_df[\"baseline_create_date\"].dt.day\n",
    "open_invoice_df[\"due_baseline\"] = (open_invoice_df[\"due_in_date\"] - open_invoice_df[\"baseline_create_date\"]).dt.days\n",
    "open_invoice_df['mean_delay']=open_invoice_df['cust_number'].map(cust_mean_delay)\n",
    "open_invoice_df[\"mean_delay\"] = open_invoice_df[\"mean_delay\"].fillna(open_invoice_df[\"mean_delay\"].mean())"
   ]
  },
  {
   "cell_type": "code",
   "execution_count": 68,
   "metadata": {},
   "outputs": [],
   "source": [
    "open_invoice_df[\"cust_payment_terms\"] = open_invoice_df[\"cust_payment_terms\"].apply(payment_label_encoder)"
   ]
  },
  {
   "cell_type": "code",
   "execution_count": 69,
   "metadata": {},
   "outputs": [],
   "source": [
    "#Performing Prediction on Unseen Data\n",
    "X_open = open_invoice_df[X_test.keys()]\n",
    "y_open = rfr.predict(X_open)"
   ]
  },
  {
   "cell_type": "code",
   "execution_count": 70,
   "metadata": {},
   "outputs": [],
   "source": [
    "#Calculating new payment date\n",
    "from datetime import timedelta\n",
    "delay = np.array([timedelta(y) for y in y_open]).reshape(-1,1)\n",
    "open_invoice_df[\"clear_date_pred\"] = open_invoice_df[[\"due_in_date\"]] + delay"
   ]
  },
  {
   "cell_type": "code",
   "execution_count": 71,
   "metadata": {},
   "outputs": [],
   "source": [
    "#Putting data into buckets\n",
    "open_invoice_df[\"bucket\"] = pd.cut(y_open,[float(\"-inf\"),0.,15.,30.,45.,60.,float(\"inf\")],labels=[\"less than 0\",\"0-15\",\"16-30\",\"31-45\",\"46-60\",\"greater than 60\"],ordered=False)"
   ]
  },
  {
   "cell_type": "code",
   "execution_count": 72,
   "metadata": {},
   "outputs": [
    {
     "data": {
      "text/html": [
       "<div>\n",
       "<style scoped>\n",
       "    .dataframe tbody tr th:only-of-type {\n",
       "        vertical-align: middle;\n",
       "    }\n",
       "\n",
       "    .dataframe tbody tr th {\n",
       "        vertical-align: top;\n",
       "    }\n",
       "\n",
       "    .dataframe thead th {\n",
       "        text-align: right;\n",
       "    }\n",
       "</style>\n",
       "<table border=\"1\" class=\"dataframe\">\n",
       "  <thead>\n",
       "    <tr style=\"text-align: right;\">\n",
       "      <th></th>\n",
       "      <th>business_code</th>\n",
       "      <th>cust_number</th>\n",
       "      <th>name_customer</th>\n",
       "      <th>clear_date</th>\n",
       "      <th>buisness_year</th>\n",
       "      <th>doc_id</th>\n",
       "      <th>posting_date</th>\n",
       "      <th>document_create_date</th>\n",
       "      <th>document_create_date.1</th>\n",
       "      <th>due_in_date</th>\n",
       "      <th>...</th>\n",
       "      <th>isOpen</th>\n",
       "      <th>document_create_date_int</th>\n",
       "      <th>baseline_create_date_int</th>\n",
       "      <th>due_in_date_int</th>\n",
       "      <th>baseline_month</th>\n",
       "      <th>baseline_day</th>\n",
       "      <th>due_baseline</th>\n",
       "      <th>mean_delay</th>\n",
       "      <th>clear_date_pred</th>\n",
       "      <th>bucket</th>\n",
       "    </tr>\n",
       "  </thead>\n",
       "  <tbody>\n",
       "    <tr>\n",
       "      <th>45001</th>\n",
       "      <td>1.0</td>\n",
       "      <td>0200792293</td>\n",
       "      <td>UNIFIE corporation</td>\n",
       "      <td>NaT</td>\n",
       "      <td>2020</td>\n",
       "      <td>1.930675e+09</td>\n",
       "      <td>2020-03-20</td>\n",
       "      <td>2020-03-20</td>\n",
       "      <td>2020-03-20</td>\n",
       "      <td>2020-04-04</td>\n",
       "      <td>...</td>\n",
       "      <td>1</td>\n",
       "      <td>2020-03-20</td>\n",
       "      <td>2020-03-20</td>\n",
       "      <td>2020-04-04</td>\n",
       "      <td>3</td>\n",
       "      <td>20</td>\n",
       "      <td>15</td>\n",
       "      <td>2.471910</td>\n",
       "      <td>2020-04-06 13:09:02.180124</td>\n",
       "      <td>0-15</td>\n",
       "    </tr>\n",
       "    <tr>\n",
       "      <th>45002</th>\n",
       "      <td>1.0</td>\n",
       "      <td>0200772595</td>\n",
       "      <td>SAFEW co</td>\n",
       "      <td>NaT</td>\n",
       "      <td>2020</td>\n",
       "      <td>1.930693e+09</td>\n",
       "      <td>2020-03-24</td>\n",
       "      <td>2020-03-24</td>\n",
       "      <td>2020-03-24</td>\n",
       "      <td>2020-04-08</td>\n",
       "      <td>...</td>\n",
       "      <td>1</td>\n",
       "      <td>2020-03-24</td>\n",
       "      <td>2020-03-24</td>\n",
       "      <td>2020-04-08</td>\n",
       "      <td>3</td>\n",
       "      <td>24</td>\n",
       "      <td>15</td>\n",
       "      <td>1.015152</td>\n",
       "      <td>2020-04-09 03:42:06.385325</td>\n",
       "      <td>0-15</td>\n",
       "    </tr>\n",
       "    <tr>\n",
       "      <th>45003</th>\n",
       "      <td>1.0</td>\n",
       "      <td>0200772670</td>\n",
       "      <td>ASSOCIAT in</td>\n",
       "      <td>NaT</td>\n",
       "      <td>2020</td>\n",
       "      <td>1.930611e+09</td>\n",
       "      <td>2020-03-06</td>\n",
       "      <td>2020-03-06</td>\n",
       "      <td>2020-03-06</td>\n",
       "      <td>2020-03-21</td>\n",
       "      <td>...</td>\n",
       "      <td>1</td>\n",
       "      <td>2020-03-06</td>\n",
       "      <td>2020-03-06</td>\n",
       "      <td>2020-03-21</td>\n",
       "      <td>3</td>\n",
       "      <td>6</td>\n",
       "      <td>15</td>\n",
       "      <td>1.371080</td>\n",
       "      <td>2020-03-22 04:49:50.363825</td>\n",
       "      <td>0-15</td>\n",
       "    </tr>\n",
       "    <tr>\n",
       "      <th>45004</th>\n",
       "      <td>0.0</td>\n",
       "      <td>0140106408</td>\n",
       "      <td>WAL-M</td>\n",
       "      <td>NaT</td>\n",
       "      <td>2020</td>\n",
       "      <td>2.960627e+09</td>\n",
       "      <td>2020-04-06</td>\n",
       "      <td>2020-04-07</td>\n",
       "      <td>2020-04-06</td>\n",
       "      <td>2020-04-04</td>\n",
       "      <td>...</td>\n",
       "      <td>1</td>\n",
       "      <td>2020-04-06</td>\n",
       "      <td>2020-03-25</td>\n",
       "      <td>2020-04-04</td>\n",
       "      <td>3</td>\n",
       "      <td>25</td>\n",
       "      <td>10</td>\n",
       "      <td>9.611111</td>\n",
       "      <td>2020-04-13 12:28:28.873791</td>\n",
       "      <td>0-15</td>\n",
       "    </tr>\n",
       "    <tr>\n",
       "      <th>45005</th>\n",
       "      <td>1.0</td>\n",
       "      <td>0200799367</td>\n",
       "      <td>MCL corp</td>\n",
       "      <td>NaT</td>\n",
       "      <td>2020</td>\n",
       "      <td>1.930595e+09</td>\n",
       "      <td>2020-03-03</td>\n",
       "      <td>2020-03-03</td>\n",
       "      <td>2020-03-03</td>\n",
       "      <td>2020-03-18</td>\n",
       "      <td>...</td>\n",
       "      <td>1</td>\n",
       "      <td>2020-03-03</td>\n",
       "      <td>2020-03-03</td>\n",
       "      <td>2020-03-18</td>\n",
       "      <td>3</td>\n",
       "      <td>3</td>\n",
       "      <td>15</td>\n",
       "      <td>1.935185</td>\n",
       "      <td>2020-03-19 18:02:35.019382</td>\n",
       "      <td>0-15</td>\n",
       "    </tr>\n",
       "  </tbody>\n",
       "</table>\n",
       "<p>5 rows × 28 columns</p>\n",
       "</div>"
      ],
      "text/plain": [
       "       business_code cust_number       name_customer clear_date  \\\n",
       "45001            1.0  0200792293  UNIFIE corporation        NaT   \n",
       "45002            1.0  0200772595            SAFEW co        NaT   \n",
       "45003            1.0  0200772670         ASSOCIAT in        NaT   \n",
       "45004            0.0  0140106408              WAL-M         NaT   \n",
       "45005            1.0  0200799367            MCL corp        NaT   \n",
       "\n",
       "       buisness_year        doc_id posting_date document_create_date  \\\n",
       "45001           2020  1.930675e+09   2020-03-20           2020-03-20   \n",
       "45002           2020  1.930693e+09   2020-03-24           2020-03-24   \n",
       "45003           2020  1.930611e+09   2020-03-06           2020-03-06   \n",
       "45004           2020  2.960627e+09   2020-04-06           2020-04-07   \n",
       "45005           2020  1.930595e+09   2020-03-03           2020-03-03   \n",
       "\n",
       "      document_create_date.1 due_in_date  ...  isOpen  \\\n",
       "45001             2020-03-20  2020-04-04  ...       1   \n",
       "45002             2020-03-24  2020-04-08  ...       1   \n",
       "45003             2020-03-06  2020-03-21  ...       1   \n",
       "45004             2020-04-06  2020-04-04  ...       1   \n",
       "45005             2020-03-03  2020-03-18  ...       1   \n",
       "\n",
       "      document_create_date_int  baseline_create_date_int  due_in_date_int  \\\n",
       "45001               2020-03-20                2020-03-20       2020-04-04   \n",
       "45002               2020-03-24                2020-03-24       2020-04-08   \n",
       "45003               2020-03-06                2020-03-06       2020-03-21   \n",
       "45004               2020-04-06                2020-03-25       2020-04-04   \n",
       "45005               2020-03-03                2020-03-03       2020-03-18   \n",
       "\n",
       "       baseline_month baseline_day  due_baseline  mean_delay  \\\n",
       "45001               3           20            15    2.471910   \n",
       "45002               3           24            15    1.015152   \n",
       "45003               3            6            15    1.371080   \n",
       "45004               3           25            10    9.611111   \n",
       "45005               3            3            15    1.935185   \n",
       "\n",
       "                 clear_date_pred bucket  \n",
       "45001 2020-04-06 13:09:02.180124   0-15  \n",
       "45002 2020-04-09 03:42:06.385325   0-15  \n",
       "45003 2020-03-22 04:49:50.363825   0-15  \n",
       "45004 2020-04-13 12:28:28.873791   0-15  \n",
       "45005 2020-03-19 18:02:35.019382   0-15  \n",
       "\n",
       "[5 rows x 28 columns]"
      ]
     },
     "execution_count": 72,
     "metadata": {},
     "output_type": "execute_result"
    }
   ],
   "source": [
    "open_invoice_df.head() # First 5 rows of the dataset"
   ]
  },
  {
   "cell_type": "code",
   "execution_count": 73,
   "metadata": {},
   "outputs": [
    {
     "data": {
      "text/html": [
       "<div>\n",
       "<style scoped>\n",
       "    .dataframe tbody tr th:only-of-type {\n",
       "        vertical-align: middle;\n",
       "    }\n",
       "\n",
       "    .dataframe tbody tr th {\n",
       "        vertical-align: top;\n",
       "    }\n",
       "\n",
       "    .dataframe thead th {\n",
       "        text-align: right;\n",
       "    }\n",
       "</style>\n",
       "<table border=\"1\" class=\"dataframe\">\n",
       "  <thead>\n",
       "    <tr style=\"text-align: right;\">\n",
       "      <th></th>\n",
       "      <th>business_code</th>\n",
       "      <th>cust_number</th>\n",
       "      <th>name_customer</th>\n",
       "      <th>clear_date</th>\n",
       "      <th>buisness_year</th>\n",
       "      <th>doc_id</th>\n",
       "      <th>posting_date</th>\n",
       "      <th>document_create_date</th>\n",
       "      <th>document_create_date.1</th>\n",
       "      <th>due_in_date</th>\n",
       "      <th>...</th>\n",
       "      <th>isOpen</th>\n",
       "      <th>document_create_date_int</th>\n",
       "      <th>baseline_create_date_int</th>\n",
       "      <th>due_in_date_int</th>\n",
       "      <th>baseline_month</th>\n",
       "      <th>baseline_day</th>\n",
       "      <th>due_baseline</th>\n",
       "      <th>mean_delay</th>\n",
       "      <th>clear_date_pred</th>\n",
       "      <th>bucket</th>\n",
       "    </tr>\n",
       "  </thead>\n",
       "  <tbody>\n",
       "    <tr>\n",
       "      <th>45001</th>\n",
       "      <td>1.0</td>\n",
       "      <td>0200792293</td>\n",
       "      <td>UNIFIE corporation</td>\n",
       "      <td>NaT</td>\n",
       "      <td>2020</td>\n",
       "      <td>1.930675e+09</td>\n",
       "      <td>2020-03-20</td>\n",
       "      <td>2020-03-20</td>\n",
       "      <td>2020-03-20</td>\n",
       "      <td>2020-04-04</td>\n",
       "      <td>...</td>\n",
       "      <td>1</td>\n",
       "      <td>2020-03-20</td>\n",
       "      <td>2020-03-20</td>\n",
       "      <td>2020-04-04</td>\n",
       "      <td>3</td>\n",
       "      <td>20</td>\n",
       "      <td>15</td>\n",
       "      <td>2.471910</td>\n",
       "      <td>2020-04-06 13:09:02.180124</td>\n",
       "      <td>0-15</td>\n",
       "    </tr>\n",
       "    <tr>\n",
       "      <th>45002</th>\n",
       "      <td>1.0</td>\n",
       "      <td>0200772595</td>\n",
       "      <td>SAFEW co</td>\n",
       "      <td>NaT</td>\n",
       "      <td>2020</td>\n",
       "      <td>1.930693e+09</td>\n",
       "      <td>2020-03-24</td>\n",
       "      <td>2020-03-24</td>\n",
       "      <td>2020-03-24</td>\n",
       "      <td>2020-04-08</td>\n",
       "      <td>...</td>\n",
       "      <td>1</td>\n",
       "      <td>2020-03-24</td>\n",
       "      <td>2020-03-24</td>\n",
       "      <td>2020-04-08</td>\n",
       "      <td>3</td>\n",
       "      <td>24</td>\n",
       "      <td>15</td>\n",
       "      <td>1.015152</td>\n",
       "      <td>2020-04-09 03:42:06.385325</td>\n",
       "      <td>0-15</td>\n",
       "    </tr>\n",
       "    <tr>\n",
       "      <th>45003</th>\n",
       "      <td>1.0</td>\n",
       "      <td>0200772670</td>\n",
       "      <td>ASSOCIAT in</td>\n",
       "      <td>NaT</td>\n",
       "      <td>2020</td>\n",
       "      <td>1.930611e+09</td>\n",
       "      <td>2020-03-06</td>\n",
       "      <td>2020-03-06</td>\n",
       "      <td>2020-03-06</td>\n",
       "      <td>2020-03-21</td>\n",
       "      <td>...</td>\n",
       "      <td>1</td>\n",
       "      <td>2020-03-06</td>\n",
       "      <td>2020-03-06</td>\n",
       "      <td>2020-03-21</td>\n",
       "      <td>3</td>\n",
       "      <td>6</td>\n",
       "      <td>15</td>\n",
       "      <td>1.371080</td>\n",
       "      <td>2020-03-22 04:49:50.363825</td>\n",
       "      <td>0-15</td>\n",
       "    </tr>\n",
       "    <tr>\n",
       "      <th>45004</th>\n",
       "      <td>0.0</td>\n",
       "      <td>0140106408</td>\n",
       "      <td>WAL-M</td>\n",
       "      <td>NaT</td>\n",
       "      <td>2020</td>\n",
       "      <td>2.960627e+09</td>\n",
       "      <td>2020-04-06</td>\n",
       "      <td>2020-04-07</td>\n",
       "      <td>2020-04-06</td>\n",
       "      <td>2020-04-04</td>\n",
       "      <td>...</td>\n",
       "      <td>1</td>\n",
       "      <td>2020-04-06</td>\n",
       "      <td>2020-03-25</td>\n",
       "      <td>2020-04-04</td>\n",
       "      <td>3</td>\n",
       "      <td>25</td>\n",
       "      <td>10</td>\n",
       "      <td>9.611111</td>\n",
       "      <td>2020-04-13 12:28:28.873791</td>\n",
       "      <td>0-15</td>\n",
       "    </tr>\n",
       "    <tr>\n",
       "      <th>45005</th>\n",
       "      <td>1.0</td>\n",
       "      <td>0200799367</td>\n",
       "      <td>MCL corp</td>\n",
       "      <td>NaT</td>\n",
       "      <td>2020</td>\n",
       "      <td>1.930595e+09</td>\n",
       "      <td>2020-03-03</td>\n",
       "      <td>2020-03-03</td>\n",
       "      <td>2020-03-03</td>\n",
       "      <td>2020-03-18</td>\n",
       "      <td>...</td>\n",
       "      <td>1</td>\n",
       "      <td>2020-03-03</td>\n",
       "      <td>2020-03-03</td>\n",
       "      <td>2020-03-18</td>\n",
       "      <td>3</td>\n",
       "      <td>3</td>\n",
       "      <td>15</td>\n",
       "      <td>1.935185</td>\n",
       "      <td>2020-03-19 18:02:35.019382</td>\n",
       "      <td>0-15</td>\n",
       "    </tr>\n",
       "    <tr>\n",
       "      <th>...</th>\n",
       "      <td>...</td>\n",
       "      <td>...</td>\n",
       "      <td>...</td>\n",
       "      <td>...</td>\n",
       "      <td>...</td>\n",
       "      <td>...</td>\n",
       "      <td>...</td>\n",
       "      <td>...</td>\n",
       "      <td>...</td>\n",
       "      <td>...</td>\n",
       "      <td>...</td>\n",
       "      <td>...</td>\n",
       "      <td>...</td>\n",
       "      <td>...</td>\n",
       "      <td>...</td>\n",
       "      <td>...</td>\n",
       "      <td>...</td>\n",
       "      <td>...</td>\n",
       "      <td>...</td>\n",
       "      <td>...</td>\n",
       "      <td>...</td>\n",
       "    </tr>\n",
       "    <tr>\n",
       "      <th>49995</th>\n",
       "      <td>1.0</td>\n",
       "      <td>0200762301</td>\n",
       "      <td>C&amp;S WH llc</td>\n",
       "      <td>NaT</td>\n",
       "      <td>2020</td>\n",
       "      <td>1.930728e+09</td>\n",
       "      <td>2020-04-02</td>\n",
       "      <td>2020-04-01</td>\n",
       "      <td>2020-04-02</td>\n",
       "      <td>2020-04-17</td>\n",
       "      <td>...</td>\n",
       "      <td>1</td>\n",
       "      <td>2020-04-02</td>\n",
       "      <td>2020-04-02</td>\n",
       "      <td>2020-04-17</td>\n",
       "      <td>4</td>\n",
       "      <td>2</td>\n",
       "      <td>15</td>\n",
       "      <td>0.389738</td>\n",
       "      <td>2020-04-17 13:32:39.198943</td>\n",
       "      <td>0-15</td>\n",
       "    </tr>\n",
       "    <tr>\n",
       "      <th>49996</th>\n",
       "      <td>1.0</td>\n",
       "      <td>0200743123</td>\n",
       "      <td>KROGER trust</td>\n",
       "      <td>NaT</td>\n",
       "      <td>2020</td>\n",
       "      <td>1.930634e+09</td>\n",
       "      <td>2020-03-11</td>\n",
       "      <td>2020-03-10</td>\n",
       "      <td>2020-03-11</td>\n",
       "      <td>2020-03-26</td>\n",
       "      <td>...</td>\n",
       "      <td>1</td>\n",
       "      <td>2020-03-11</td>\n",
       "      <td>2020-03-11</td>\n",
       "      <td>2020-03-26</td>\n",
       "      <td>3</td>\n",
       "      <td>11</td>\n",
       "      <td>15</td>\n",
       "      <td>0.576471</td>\n",
       "      <td>2020-03-26 13:20:23.692411</td>\n",
       "      <td>0-15</td>\n",
       "    </tr>\n",
       "    <tr>\n",
       "      <th>49997</th>\n",
       "      <td>0.0</td>\n",
       "      <td>0140106408</td>\n",
       "      <td>WAL-M llc</td>\n",
       "      <td>NaT</td>\n",
       "      <td>2020</td>\n",
       "      <td>2.960626e+09</td>\n",
       "      <td>2020-04-02</td>\n",
       "      <td>2020-04-02</td>\n",
       "      <td>2020-04-02</td>\n",
       "      <td>2020-04-12</td>\n",
       "      <td>...</td>\n",
       "      <td>1</td>\n",
       "      <td>2020-04-02</td>\n",
       "      <td>2020-04-02</td>\n",
       "      <td>2020-04-12</td>\n",
       "      <td>4</td>\n",
       "      <td>2</td>\n",
       "      <td>10</td>\n",
       "      <td>9.611111</td>\n",
       "      <td>2020-04-22 01:17:03.555328</td>\n",
       "      <td>0-15</td>\n",
       "    </tr>\n",
       "    <tr>\n",
       "      <th>49998</th>\n",
       "      <td>1.0</td>\n",
       "      <td>0200508557</td>\n",
       "      <td>FOODL systems</td>\n",
       "      <td>NaT</td>\n",
       "      <td>2020</td>\n",
       "      <td>1.930834e+09</td>\n",
       "      <td>2020-05-05</td>\n",
       "      <td>2020-05-04</td>\n",
       "      <td>2020-05-05</td>\n",
       "      <td>2020-05-20</td>\n",
       "      <td>...</td>\n",
       "      <td>1</td>\n",
       "      <td>2020-05-05</td>\n",
       "      <td>2020-05-05</td>\n",
       "      <td>2020-05-20</td>\n",
       "      <td>5</td>\n",
       "      <td>5</td>\n",
       "      <td>15</td>\n",
       "      <td>1.272727</td>\n",
       "      <td>2020-05-22 03:00:32.450471</td>\n",
       "      <td>0-15</td>\n",
       "    </tr>\n",
       "    <tr>\n",
       "      <th>49999</th>\n",
       "      <td>0.0</td>\n",
       "      <td>0140104223</td>\n",
       "      <td>H Y LO trust</td>\n",
       "      <td>NaT</td>\n",
       "      <td>2020</td>\n",
       "      <td>2.960626e+09</td>\n",
       "      <td>2020-04-05</td>\n",
       "      <td>2020-04-05</td>\n",
       "      <td>2020-04-05</td>\n",
       "      <td>2020-04-24</td>\n",
       "      <td>...</td>\n",
       "      <td>1</td>\n",
       "      <td>2020-04-05</td>\n",
       "      <td>2020-04-14</td>\n",
       "      <td>2020-04-24</td>\n",
       "      <td>4</td>\n",
       "      <td>14</td>\n",
       "      <td>10</td>\n",
       "      <td>10.200000</td>\n",
       "      <td>2020-05-02 22:51:30.949016</td>\n",
       "      <td>0-15</td>\n",
       "    </tr>\n",
       "  </tbody>\n",
       "</table>\n",
       "<p>4999 rows × 28 columns</p>\n",
       "</div>"
      ],
      "text/plain": [
       "       business_code cust_number       name_customer clear_date  \\\n",
       "45001            1.0  0200792293  UNIFIE corporation        NaT   \n",
       "45002            1.0  0200772595            SAFEW co        NaT   \n",
       "45003            1.0  0200772670         ASSOCIAT in        NaT   \n",
       "45004            0.0  0140106408              WAL-M         NaT   \n",
       "45005            1.0  0200799367            MCL corp        NaT   \n",
       "...              ...         ...                 ...        ...   \n",
       "49995            1.0  0200762301          C&S WH llc        NaT   \n",
       "49996            1.0  0200743123        KROGER trust        NaT   \n",
       "49997            0.0  0140106408           WAL-M llc        NaT   \n",
       "49998            1.0  0200508557       FOODL systems        NaT   \n",
       "49999            0.0  0140104223        H Y LO trust        NaT   \n",
       "\n",
       "       buisness_year        doc_id posting_date document_create_date  \\\n",
       "45001           2020  1.930675e+09   2020-03-20           2020-03-20   \n",
       "45002           2020  1.930693e+09   2020-03-24           2020-03-24   \n",
       "45003           2020  1.930611e+09   2020-03-06           2020-03-06   \n",
       "45004           2020  2.960627e+09   2020-04-06           2020-04-07   \n",
       "45005           2020  1.930595e+09   2020-03-03           2020-03-03   \n",
       "...              ...           ...          ...                  ...   \n",
       "49995           2020  1.930728e+09   2020-04-02           2020-04-01   \n",
       "49996           2020  1.930634e+09   2020-03-11           2020-03-10   \n",
       "49997           2020  2.960626e+09   2020-04-02           2020-04-02   \n",
       "49998           2020  1.930834e+09   2020-05-05           2020-05-04   \n",
       "49999           2020  2.960626e+09   2020-04-05           2020-04-05   \n",
       "\n",
       "      document_create_date.1 due_in_date  ...  isOpen  \\\n",
       "45001             2020-03-20  2020-04-04  ...       1   \n",
       "45002             2020-03-24  2020-04-08  ...       1   \n",
       "45003             2020-03-06  2020-03-21  ...       1   \n",
       "45004             2020-04-06  2020-04-04  ...       1   \n",
       "45005             2020-03-03  2020-03-18  ...       1   \n",
       "...                      ...         ...  ...     ...   \n",
       "49995             2020-04-02  2020-04-17  ...       1   \n",
       "49996             2020-03-11  2020-03-26  ...       1   \n",
       "49997             2020-04-02  2020-04-12  ...       1   \n",
       "49998             2020-05-05  2020-05-20  ...       1   \n",
       "49999             2020-04-05  2020-04-24  ...       1   \n",
       "\n",
       "      document_create_date_int  baseline_create_date_int  due_in_date_int  \\\n",
       "45001               2020-03-20                2020-03-20       2020-04-04   \n",
       "45002               2020-03-24                2020-03-24       2020-04-08   \n",
       "45003               2020-03-06                2020-03-06       2020-03-21   \n",
       "45004               2020-04-06                2020-03-25       2020-04-04   \n",
       "45005               2020-03-03                2020-03-03       2020-03-18   \n",
       "...                        ...                       ...              ...   \n",
       "49995               2020-04-02                2020-04-02       2020-04-17   \n",
       "49996               2020-03-11                2020-03-11       2020-03-26   \n",
       "49997               2020-04-02                2020-04-02       2020-04-12   \n",
       "49998               2020-05-05                2020-05-05       2020-05-20   \n",
       "49999               2020-04-05                2020-04-14       2020-04-24   \n",
       "\n",
       "       baseline_month baseline_day  due_baseline  mean_delay  \\\n",
       "45001               3           20            15    2.471910   \n",
       "45002               3           24            15    1.015152   \n",
       "45003               3            6            15    1.371080   \n",
       "45004               3           25            10    9.611111   \n",
       "45005               3            3            15    1.935185   \n",
       "...               ...          ...           ...         ...   \n",
       "49995               4            2            15    0.389738   \n",
       "49996               3           11            15    0.576471   \n",
       "49997               4            2            10    9.611111   \n",
       "49998               5            5            15    1.272727   \n",
       "49999               4           14            10   10.200000   \n",
       "\n",
       "                 clear_date_pred bucket  \n",
       "45001 2020-04-06 13:09:02.180124   0-15  \n",
       "45002 2020-04-09 03:42:06.385325   0-15  \n",
       "45003 2020-03-22 04:49:50.363825   0-15  \n",
       "45004 2020-04-13 12:28:28.873791   0-15  \n",
       "45005 2020-03-19 18:02:35.019382   0-15  \n",
       "...                          ...    ...  \n",
       "49995 2020-04-17 13:32:39.198943   0-15  \n",
       "49996 2020-03-26 13:20:23.692411   0-15  \n",
       "49997 2020-04-22 01:17:03.555328   0-15  \n",
       "49998 2020-05-22 03:00:32.450471   0-15  \n",
       "49999 2020-05-02 22:51:30.949016   0-15  \n",
       "\n",
       "[4999 rows x 28 columns]"
      ]
     },
     "execution_count": 73,
     "metadata": {},
     "output_type": "execute_result"
    }
   ],
   "source": [
    "open_invoice_df"
   ]
  },
  {
   "cell_type": "code",
   "execution_count": null,
   "metadata": {},
   "outputs": [],
   "source": []
  }
 ],
 "metadata": {
  "colab": {
   "collapsed_sections": [],
   "name": "1806507_(1) (1).ipynb",
   "provenance": []
  },
  "kernelspec": {
   "display_name": "Python 3",
   "language": "python",
   "name": "python3"
  },
  "language_info": {
   "codemirror_mode": {
    "name": "ipython",
    "version": 3
   },
   "file_extension": ".py",
   "mimetype": "text/x-python",
   "name": "python",
   "nbconvert_exporter": "python",
   "pygments_lexer": "ipython3",
   "version": "3.7.7"
  }
 },
 "nbformat": 4,
 "nbformat_minor": 1
}
